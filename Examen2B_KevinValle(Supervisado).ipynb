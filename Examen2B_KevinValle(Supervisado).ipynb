{
  "nbformat": 4,
  "nbformat_minor": 0,
  "metadata": {
    "colab": {
      "provenance": []
    },
    "kernelspec": {
      "name": "python3",
      "display_name": "Python 3"
    },
    "language_info": {
      "name": "python"
    }
  },
  "cells": [
    {
      "cell_type": "code",
      "execution_count": 95,
      "metadata": {
        "id": "BxvYn_N7PLgx"
      },
      "outputs": [],
      "source": [
        "import pandas as pd\n",
        "import seaborn as sns\n",
        "import matplotlib.pyplot as plt\n",
        "import missingno as msno#Graficar para  valores nulos\n",
        "from sklearn.preprocessing import  LabelEncoder, MinMaxScaler\n",
        "from sklearn.model_selection import train_test_split\n",
        "from sklearn.impute import SimpleImputer\n",
        "from imblearn.over_sampling import RandomOverSampler, SMOTE\n",
        "from imblearn.under_sampling import RandomUnderSampler\n",
        "from keras.models import Sequential\n",
        "from keras.layers import Dense\n",
        "from sklearn.metrics import accuracy_score, classification_report, confusion_matrix\n",
        "from sklearn.metrics import multilabel_confusion_matrix, ConfusionMatrixDisplay\n",
        "from sklearn.multioutput import MultiOutputClassifier\n",
        "from sklearn.svm import LinearSVC\n",
        "import numpy as np"
      ]
    },
    {
      "cell_type": "code",
      "source": [
        "from sklearn.linear_model import LogisticRegression\n",
        "from sklearn.preprocessing import LabelBinarizer\n",
        "from sklearn.metrics import RocCurveDisplay\n",
        "from sklearn.metrics import roc_auc_score\n",
        "from sklearn.metrics import roc_curve, auc\n",
        "from itertools import cycle\n",
        "from sklearn.preprocessing import label_binarize"
      ],
      "metadata": {
        "id": "0lw2xah65T0w"
      },
      "execution_count": 96,
      "outputs": []
    },
    {
      "cell_type": "code",
      "source": [
        "df = pd.read_excel(\"gruposExamenIIB.xlsx\")"
      ],
      "metadata": {
        "id": "zHC6LZ9mTpK6"
      },
      "execution_count": 97,
      "outputs": []
    },
    {
      "cell_type": "code",
      "source": [
        "df.info()"
      ],
      "metadata": {
        "colab": {
          "base_uri": "https://localhost:8080/"
        },
        "id": "WDnfObb5Tv0W",
        "outputId": "1f389fc8-8644-45a2-8e39-0a5fb104bcdd"
      },
      "execution_count": 98,
      "outputs": [
        {
          "output_type": "stream",
          "name": "stdout",
          "text": [
            "<class 'pandas.core.frame.DataFrame'>\n",
            "RangeIndex: 27706 entries, 0 to 27705\n",
            "Data columns (total 36 columns):\n",
            " #   Column                          Non-Null Count  Dtype  \n",
            "---  ------                          --------------  -----  \n",
            " 0   Unnamed: 0                      27706 non-null  int64  \n",
            " 1   MES                             27706 non-null  int64  \n",
            " 2   REGIMEN ADUANERO                27706 non-null  int64  \n",
            " 3   DAU                             27706 non-null  float64\n",
            " 4   IMPORTADOR                      27706 non-null  int64  \n",
            " 5   PAIS DE PROCEDENCIA             27706 non-null  int64  \n",
            " 6   ADUANA                          27706 non-null  int64  \n",
            " 7   PARTIDA ARANCELARIA             27706 non-null  int64  \n",
            " 8   DESCRIPCIÓN ARANCELARIA         27706 non-null  int64  \n",
            " 9   DESCRIPCION PRODUCTO COMERCIAL  27706 non-null  int64  \n",
            " 10  BULTOS                          27706 non-null  float64\n",
            " 11  CANTIDAD                        27706 non-null  int64  \n",
            " 12  UNIDAD DE MEDIDA                27706 non-null  int64  \n",
            " 13  ADVALOREM                       27706 non-null  float64\n",
            " 14  EMPRESA DE TRANSPORTE           27706 non-null  int64  \n",
            " 15  PAÍS DE EMBARQUE                27706 non-null  int64  \n",
            " 16  CONTENEDOR                      27706 non-null  float64\n",
            " 17  NAVE                            27706 non-null  int64  \n",
            " 18  PESO NETO KG                    27706 non-null  float64\n",
            " 19  TIPO AFORO                      27706 non-null  int64  \n",
            " 20  DIRECCIÓN CONSIGNATARIO         27706 non-null  int64  \n",
            " 21  FECHA DE EMBARQUE               27706 non-null  int64  \n",
            " 22  FECHA DE LLEGADA                27706 non-null  int64  \n",
            " 23  FECHA INGRESO SISTEMA           27706 non-null  int64  \n",
            " 24  FECHA PAGO                      27706 non-null  int64  \n",
            " 25  PRODUCTO                        27706 non-null  int64  \n",
            " 26  US$ FOB UNIT                    27706 non-null  float64\n",
            " 27  FECHA DE LIQUIDACIÓN            27706 non-null  int64  \n",
            " 28  INCOTERM                        27706 non-null  int64  \n",
            " 29  AGENCIA DE CARGA                27706 non-null  int64  \n",
            " 30  ESTADO DE MERCANCIA             27706 non-null  int64  \n",
            " 31  VIA DE TRANSPORTE               27706 non-null  int64  \n",
            " 32  PAÍS DE ORIGEN                  27706 non-null  int64  \n",
            " 33  DEPOSITO COMERCIAL              27706 non-null  int64  \n",
            " 34  AÑO FABRICACIÓN                 27706 non-null  int64  \n",
            " 35  label                           27706 non-null  int64  \n",
            "dtypes: float64(6), int64(30)\n",
            "memory usage: 7.6 MB\n"
          ]
        }
      ]
    },
    {
      "cell_type": "code",
      "source": [
        "df.describe().transpose()"
      ],
      "metadata": {
        "colab": {
          "base_uri": "https://localhost:8080/",
          "height": 1000
        },
        "id": "FDav36GOUC0E",
        "outputId": "2fffac6e-4f6b-464f-f906-eeac308614ee"
      },
      "execution_count": 99,
      "outputs": [
        {
          "output_type": "execute_result",
          "data": {
            "text/plain": [
              "                                  count          mean           std  \\\n",
              "Unnamed: 0                      27706.0  1.385250e+04  7.998178e+03   \n",
              "MES                             27706.0  7.015051e+00  3.364564e+00   \n",
              "REGIMEN ADUANERO                27706.0  7.079044e+00  2.698127e-01   \n",
              "DAU                             27706.0  7.092212e+05  1.295558e+06   \n",
              "IMPORTADOR                      27706.0  1.326086e+03  8.097624e+02   \n",
              "PAIS DE PROCEDENCIA             27706.0  2.202227e+01  1.584419e+01   \n",
              "ADUANA                          27706.0  3.134844e+00  6.625088e-01   \n",
              "PARTIDA ARANCELARIA             27706.0  8.386725e+09  3.717433e+08   \n",
              "DESCRIPCIÓN ARANCELARIA         27706.0  2.586949e+00  6.145983e-01   \n",
              "DESCRIPCION PRODUCTO COMERCIAL  27706.0  3.399408e+03  1.725068e+03   \n",
              "BULTOS                          27706.0  5.843952e+02  5.290046e+02   \n",
              "CANTIDAD                        27706.0  1.972977e+02  2.492651e+02   \n",
              "UNIDAD DE MEDIDA                27706.0  1.000000e+00  0.000000e+00   \n",
              "ADVALOREM                       27706.0  7.707002e+02  1.118786e+03   \n",
              "EMPRESA DE TRANSPORTE           27706.0  3.978745e+01  2.451502e+01   \n",
              "PAÍS DE EMBARQUE                27706.0  1.901841e+01  8.592355e+00   \n",
              "CONTENEDOR                      27706.0  5.846866e-01  4.528991e-01   \n",
              "NAVE                            27706.0  2.887721e+02  1.829478e+02   \n",
              "PESO NETO KG                    27706.0  3.403782e+02  4.609247e+02   \n",
              "TIPO AFORO                      27706.0  1.344979e+00  1.386722e+00   \n",
              "DIRECCIÓN CONSIGNATARIO         27706.0  1.987515e+03  1.237569e+03   \n",
              "FECHA DE EMBARQUE               27706.0  1.892377e+07  4.899472e+06   \n",
              "FECHA DE LLEGADA                27706.0  2.013801e+07  2.622432e+05   \n",
              "FECHA INGRESO SISTEMA           27706.0  2.019839e+07  1.987318e+04   \n",
              "FECHA PAGO                      27706.0  1.759669e+07  6.740923e+06   \n",
              "PRODUCTO                        27706.0  2.566235e+03  1.492064e+03   \n",
              "US$ FOB UNIT                    27706.0  2.371739e+01  2.608699e+01   \n",
              "FECHA DE LIQUIDACIÓN            27706.0  2.020846e+07  1.573278e+04   \n",
              "INCOTERM                        27706.0  8.842525e+00  3.820234e+00   \n",
              "AGENCIA DE CARGA                27706.0  1.322803e+02  7.997708e+01   \n",
              "ESTADO DE MERCANCIA             27706.0  1.000000e+00  0.000000e+00   \n",
              "VIA DE TRANSPORTE               27706.0  1.714791e+00  6.868523e-01   \n",
              "PAÍS DE ORIGEN                  27706.0  3.935898e+00  6.250784e+00   \n",
              "DEPOSITO COMERCIAL              27706.0  1.338735e+01  2.272097e+00   \n",
              "AÑO FABRICACIÓN                 27706.0  2.020580e+03  1.908020e+00   \n",
              "label                           27706.0  1.488234e+00  1.095522e+00   \n",
              "\n",
              "                                         min           25%           50%  \\\n",
              "Unnamed: 0                      0.000000e+00  6.926250e+03  1.385250e+04   \n",
              "MES                             1.000000e+00  4.000000e+00  7.000000e+00   \n",
              "REGIMEN ADUANERO                7.000000e+00  7.000000e+00  7.000000e+00   \n",
              "DAU                             1.010000e+02  9.320000e+02  3.842000e+03   \n",
              "IMPORTADOR                      0.000000e+00  7.160000e+02  1.221000e+03   \n",
              "PAIS DE PROCEDENCIA             0.000000e+00  8.000000e+00  8.000000e+00   \n",
              "ADUANA                          2.000000e+00  3.000000e+00  3.000000e+00   \n",
              "PARTIDA ARANCELARIA             7.323911e+09  8.516790e+09  8.516790e+09   \n",
              "DESCRIPCIÓN ARANCELARIA         1.000000e+00  2.000000e+00  3.000000e+00   \n",
              "DESCRIPCION PRODUCTO COMERCIAL  0.000000e+00  1.977000e+03  3.412000e+03   \n",
              "BULTOS                          2.000000e+00  1.900000e+01  5.310000e+02   \n",
              "CANTIDAD                        1.000000e+00  4.000000e+00  6.000000e+01   \n",
              "UNIDAD DE MEDIDA                1.000000e+00  1.000000e+00  1.000000e+00   \n",
              "ADVALOREM                       1.215000e+01  2.488000e+01  1.281650e+02   \n",
              "EMPRESA DE TRANSPORTE           0.000000e+00  2.400000e+01  4.100000e+01   \n",
              "PAÍS DE EMBARQUE                3.000000e+00  1.700000e+01  2.400000e+01   \n",
              "CONTENEDOR                      0.000000e+00  0.000000e+00  7.397432e-01   \n",
              "NAVE                            0.000000e+00  1.310000e+02  2.470000e+02   \n",
              "PESO NETO KG                    7.400000e+00  1.393500e+01  8.039000e+01   \n",
              "TIPO AFORO                      0.000000e+00  0.000000e+00  1.000000e+00   \n",
              "DIRECCIÓN CONSIGNATARIO         0.000000e+00  9.100000e+02  1.886000e+03   \n",
              "FECHA DE EMBARQUE               0.000000e+00  2.017121e+07  2.019110e+07   \n",
              "FECHA DE LLEGADA                1.900010e+07  2.018021e+07  2.019122e+07   \n",
              "FECHA INGRESO SISTEMA           2.017010e+07  2.018061e+07  2.020031e+07   \n",
              "FECHA PAGO                      0.000000e+00  2.017090e+07  2.019072e+07   \n",
              "PRODUCTO                        0.000000e+00  1.218000e+03  2.723500e+03   \n",
              "US$ FOB UNIT                    1.600000e-01  2.250000e+00  1.332000e+01   \n",
              "FECHA DE LIQUIDACIÓN            2.018093e+07  2.019103e+07  2.022042e+07   \n",
              "INCOTERM                        0.000000e+00  1.000000e+01  1.000000e+01   \n",
              "AGENCIA DE CARGA                0.000000e+00  4.300000e+01  1.390000e+02   \n",
              "ESTADO DE MERCANCIA             1.000000e+00  1.000000e+00  1.000000e+00   \n",
              "VIA DE TRANSPORTE               0.000000e+00  2.000000e+00  2.000000e+00   \n",
              "PAÍS DE ORIGEN                  2.000000e+00  2.000000e+00  2.000000e+00   \n",
              "DEPOSITO COMERCIAL              1.100000e+01  1.200000e+01  1.200000e+01   \n",
              "AÑO FABRICACIÓN                 2.017000e+03  2.019000e+03  2.022000e+03   \n",
              "label                           0.000000e+00  1.000000e+00  1.000000e+00   \n",
              "\n",
              "                                         75%           max  \n",
              "Unnamed: 0                      2.077875e+04  2.770500e+04  \n",
              "MES                             1.000000e+01  1.200000e+01  \n",
              "REGIMEN ADUANERO                7.000000e+00  8.000000e+00  \n",
              "DAU                             1.001282e+06  3.916160e+06  \n",
              "IMPORTADOR                      1.954750e+03  2.973000e+03  \n",
              "PAIS DE PROCEDENCIA             4.200000e+01  4.600000e+01  \n",
              "ADUANA                          3.000000e+00  5.000000e+00  \n",
              "PARTIDA ARANCELARIA             8.516790e+09  8.516790e+09  \n",
              "DESCRIPCIÓN ARANCELARIA         3.000000e+00  3.000000e+00  \n",
              "DESCRIPCION PRODUCTO COMERCIAL  4.795000e+03  6.533000e+03  \n",
              "BULTOS                          9.980000e+02  1.445000e+03  \n",
              "CANTIDAD                        3.280000e+02  6.720000e+02  \n",
              "UNIDAD DE MEDIDA                1.000000e+00  1.000000e+00  \n",
              "ADVALOREM                       1.054003e+03  3.058250e+03  \n",
              "EMPRESA DE TRANSPORTE           5.300000e+01  8.600000e+01  \n",
              "PAÍS DE EMBARQUE                2.400000e+01  2.400000e+01  \n",
              "CONTENEDOR                      1.000000e+00  1.000000e+00  \n",
              "NAVE                            4.930000e+02  5.530000e+02  \n",
              "PESO NETO KG                    5.091875e+02  1.228840e+03  \n",
              "TIPO AFORO                      3.000000e+00  4.000000e+00  \n",
              "DIRECCIÓN CONSIGNATARIO         3.065000e+03  4.039000e+03  \n",
              "FECHA DE EMBARQUE               2.022040e+07  2.022102e+07  \n",
              "FECHA DE LLEGADA                2.022051e+07  2.022111e+07  \n",
              "FECHA INGRESO SISTEMA           2.022053e+07  2.022123e+07  \n",
              "FECHA PAGO                      2.022041e+07  2.022091e+07  \n",
              "PRODUCTO                        3.740000e+03  4.733000e+03  \n",
              "US$ FOB UNIT                    3.599750e+01  7.991500e+01  \n",
              "FECHA DE LIQUIDACIÓN            2.022111e+07  2.022111e+07  \n",
              "INCOTERM                        1.200000e+01  1.200000e+01  \n",
              "AGENCIA DE CARGA                2.180000e+02  2.210000e+02  \n",
              "ESTADO DE MERCANCIA             1.000000e+00  1.000000e+00  \n",
              "VIA DE TRANSPORTE               2.000000e+00  2.000000e+00  \n",
              "PAÍS DE ORIGEN                  2.000000e+00  2.500000e+01  \n",
              "DEPOSITO COMERCIAL              1.500000e+01  2.000000e+01  \n",
              "AÑO FABRICACIÓN                 2.022000e+03  2.022000e+03  \n",
              "label                           3.000000e+00  3.000000e+00  "
            ],
            "text/html": [
              "\n",
              "  <div id=\"df-b136655d-8b0c-4c18-8e4a-e8875cf2e993\">\n",
              "    <div class=\"colab-df-container\">\n",
              "      <div>\n",
              "<style scoped>\n",
              "    .dataframe tbody tr th:only-of-type {\n",
              "        vertical-align: middle;\n",
              "    }\n",
              "\n",
              "    .dataframe tbody tr th {\n",
              "        vertical-align: top;\n",
              "    }\n",
              "\n",
              "    .dataframe thead th {\n",
              "        text-align: right;\n",
              "    }\n",
              "</style>\n",
              "<table border=\"1\" class=\"dataframe\">\n",
              "  <thead>\n",
              "    <tr style=\"text-align: right;\">\n",
              "      <th></th>\n",
              "      <th>count</th>\n",
              "      <th>mean</th>\n",
              "      <th>std</th>\n",
              "      <th>min</th>\n",
              "      <th>25%</th>\n",
              "      <th>50%</th>\n",
              "      <th>75%</th>\n",
              "      <th>max</th>\n",
              "    </tr>\n",
              "  </thead>\n",
              "  <tbody>\n",
              "    <tr>\n",
              "      <th>Unnamed: 0</th>\n",
              "      <td>27706.0</td>\n",
              "      <td>1.385250e+04</td>\n",
              "      <td>7.998178e+03</td>\n",
              "      <td>0.000000e+00</td>\n",
              "      <td>6.926250e+03</td>\n",
              "      <td>1.385250e+04</td>\n",
              "      <td>2.077875e+04</td>\n",
              "      <td>2.770500e+04</td>\n",
              "    </tr>\n",
              "    <tr>\n",
              "      <th>MES</th>\n",
              "      <td>27706.0</td>\n",
              "      <td>7.015051e+00</td>\n",
              "      <td>3.364564e+00</td>\n",
              "      <td>1.000000e+00</td>\n",
              "      <td>4.000000e+00</td>\n",
              "      <td>7.000000e+00</td>\n",
              "      <td>1.000000e+01</td>\n",
              "      <td>1.200000e+01</td>\n",
              "    </tr>\n",
              "    <tr>\n",
              "      <th>REGIMEN ADUANERO</th>\n",
              "      <td>27706.0</td>\n",
              "      <td>7.079044e+00</td>\n",
              "      <td>2.698127e-01</td>\n",
              "      <td>7.000000e+00</td>\n",
              "      <td>7.000000e+00</td>\n",
              "      <td>7.000000e+00</td>\n",
              "      <td>7.000000e+00</td>\n",
              "      <td>8.000000e+00</td>\n",
              "    </tr>\n",
              "    <tr>\n",
              "      <th>DAU</th>\n",
              "      <td>27706.0</td>\n",
              "      <td>7.092212e+05</td>\n",
              "      <td>1.295558e+06</td>\n",
              "      <td>1.010000e+02</td>\n",
              "      <td>9.320000e+02</td>\n",
              "      <td>3.842000e+03</td>\n",
              "      <td>1.001282e+06</td>\n",
              "      <td>3.916160e+06</td>\n",
              "    </tr>\n",
              "    <tr>\n",
              "      <th>IMPORTADOR</th>\n",
              "      <td>27706.0</td>\n",
              "      <td>1.326086e+03</td>\n",
              "      <td>8.097624e+02</td>\n",
              "      <td>0.000000e+00</td>\n",
              "      <td>7.160000e+02</td>\n",
              "      <td>1.221000e+03</td>\n",
              "      <td>1.954750e+03</td>\n",
              "      <td>2.973000e+03</td>\n",
              "    </tr>\n",
              "    <tr>\n",
              "      <th>PAIS DE PROCEDENCIA</th>\n",
              "      <td>27706.0</td>\n",
              "      <td>2.202227e+01</td>\n",
              "      <td>1.584419e+01</td>\n",
              "      <td>0.000000e+00</td>\n",
              "      <td>8.000000e+00</td>\n",
              "      <td>8.000000e+00</td>\n",
              "      <td>4.200000e+01</td>\n",
              "      <td>4.600000e+01</td>\n",
              "    </tr>\n",
              "    <tr>\n",
              "      <th>ADUANA</th>\n",
              "      <td>27706.0</td>\n",
              "      <td>3.134844e+00</td>\n",
              "      <td>6.625088e-01</td>\n",
              "      <td>2.000000e+00</td>\n",
              "      <td>3.000000e+00</td>\n",
              "      <td>3.000000e+00</td>\n",
              "      <td>3.000000e+00</td>\n",
              "      <td>5.000000e+00</td>\n",
              "    </tr>\n",
              "    <tr>\n",
              "      <th>PARTIDA ARANCELARIA</th>\n",
              "      <td>27706.0</td>\n",
              "      <td>8.386725e+09</td>\n",
              "      <td>3.717433e+08</td>\n",
              "      <td>7.323911e+09</td>\n",
              "      <td>8.516790e+09</td>\n",
              "      <td>8.516790e+09</td>\n",
              "      <td>8.516790e+09</td>\n",
              "      <td>8.516790e+09</td>\n",
              "    </tr>\n",
              "    <tr>\n",
              "      <th>DESCRIPCIÓN ARANCELARIA</th>\n",
              "      <td>27706.0</td>\n",
              "      <td>2.586949e+00</td>\n",
              "      <td>6.145983e-01</td>\n",
              "      <td>1.000000e+00</td>\n",
              "      <td>2.000000e+00</td>\n",
              "      <td>3.000000e+00</td>\n",
              "      <td>3.000000e+00</td>\n",
              "      <td>3.000000e+00</td>\n",
              "    </tr>\n",
              "    <tr>\n",
              "      <th>DESCRIPCION PRODUCTO COMERCIAL</th>\n",
              "      <td>27706.0</td>\n",
              "      <td>3.399408e+03</td>\n",
              "      <td>1.725068e+03</td>\n",
              "      <td>0.000000e+00</td>\n",
              "      <td>1.977000e+03</td>\n",
              "      <td>3.412000e+03</td>\n",
              "      <td>4.795000e+03</td>\n",
              "      <td>6.533000e+03</td>\n",
              "    </tr>\n",
              "    <tr>\n",
              "      <th>BULTOS</th>\n",
              "      <td>27706.0</td>\n",
              "      <td>5.843952e+02</td>\n",
              "      <td>5.290046e+02</td>\n",
              "      <td>2.000000e+00</td>\n",
              "      <td>1.900000e+01</td>\n",
              "      <td>5.310000e+02</td>\n",
              "      <td>9.980000e+02</td>\n",
              "      <td>1.445000e+03</td>\n",
              "    </tr>\n",
              "    <tr>\n",
              "      <th>CANTIDAD</th>\n",
              "      <td>27706.0</td>\n",
              "      <td>1.972977e+02</td>\n",
              "      <td>2.492651e+02</td>\n",
              "      <td>1.000000e+00</td>\n",
              "      <td>4.000000e+00</td>\n",
              "      <td>6.000000e+01</td>\n",
              "      <td>3.280000e+02</td>\n",
              "      <td>6.720000e+02</td>\n",
              "    </tr>\n",
              "    <tr>\n",
              "      <th>UNIDAD DE MEDIDA</th>\n",
              "      <td>27706.0</td>\n",
              "      <td>1.000000e+00</td>\n",
              "      <td>0.000000e+00</td>\n",
              "      <td>1.000000e+00</td>\n",
              "      <td>1.000000e+00</td>\n",
              "      <td>1.000000e+00</td>\n",
              "      <td>1.000000e+00</td>\n",
              "      <td>1.000000e+00</td>\n",
              "    </tr>\n",
              "    <tr>\n",
              "      <th>ADVALOREM</th>\n",
              "      <td>27706.0</td>\n",
              "      <td>7.707002e+02</td>\n",
              "      <td>1.118786e+03</td>\n",
              "      <td>1.215000e+01</td>\n",
              "      <td>2.488000e+01</td>\n",
              "      <td>1.281650e+02</td>\n",
              "      <td>1.054003e+03</td>\n",
              "      <td>3.058250e+03</td>\n",
              "    </tr>\n",
              "    <tr>\n",
              "      <th>EMPRESA DE TRANSPORTE</th>\n",
              "      <td>27706.0</td>\n",
              "      <td>3.978745e+01</td>\n",
              "      <td>2.451502e+01</td>\n",
              "      <td>0.000000e+00</td>\n",
              "      <td>2.400000e+01</td>\n",
              "      <td>4.100000e+01</td>\n",
              "      <td>5.300000e+01</td>\n",
              "      <td>8.600000e+01</td>\n",
              "    </tr>\n",
              "    <tr>\n",
              "      <th>PAÍS DE EMBARQUE</th>\n",
              "      <td>27706.0</td>\n",
              "      <td>1.901841e+01</td>\n",
              "      <td>8.592355e+00</td>\n",
              "      <td>3.000000e+00</td>\n",
              "      <td>1.700000e+01</td>\n",
              "      <td>2.400000e+01</td>\n",
              "      <td>2.400000e+01</td>\n",
              "      <td>2.400000e+01</td>\n",
              "    </tr>\n",
              "    <tr>\n",
              "      <th>CONTENEDOR</th>\n",
              "      <td>27706.0</td>\n",
              "      <td>5.846866e-01</td>\n",
              "      <td>4.528991e-01</td>\n",
              "      <td>0.000000e+00</td>\n",
              "      <td>0.000000e+00</td>\n",
              "      <td>7.397432e-01</td>\n",
              "      <td>1.000000e+00</td>\n",
              "      <td>1.000000e+00</td>\n",
              "    </tr>\n",
              "    <tr>\n",
              "      <th>NAVE</th>\n",
              "      <td>27706.0</td>\n",
              "      <td>2.887721e+02</td>\n",
              "      <td>1.829478e+02</td>\n",
              "      <td>0.000000e+00</td>\n",
              "      <td>1.310000e+02</td>\n",
              "      <td>2.470000e+02</td>\n",
              "      <td>4.930000e+02</td>\n",
              "      <td>5.530000e+02</td>\n",
              "    </tr>\n",
              "    <tr>\n",
              "      <th>PESO NETO KG</th>\n",
              "      <td>27706.0</td>\n",
              "      <td>3.403782e+02</td>\n",
              "      <td>4.609247e+02</td>\n",
              "      <td>7.400000e+00</td>\n",
              "      <td>1.393500e+01</td>\n",
              "      <td>8.039000e+01</td>\n",
              "      <td>5.091875e+02</td>\n",
              "      <td>1.228840e+03</td>\n",
              "    </tr>\n",
              "    <tr>\n",
              "      <th>TIPO AFORO</th>\n",
              "      <td>27706.0</td>\n",
              "      <td>1.344979e+00</td>\n",
              "      <td>1.386722e+00</td>\n",
              "      <td>0.000000e+00</td>\n",
              "      <td>0.000000e+00</td>\n",
              "      <td>1.000000e+00</td>\n",
              "      <td>3.000000e+00</td>\n",
              "      <td>4.000000e+00</td>\n",
              "    </tr>\n",
              "    <tr>\n",
              "      <th>DIRECCIÓN CONSIGNATARIO</th>\n",
              "      <td>27706.0</td>\n",
              "      <td>1.987515e+03</td>\n",
              "      <td>1.237569e+03</td>\n",
              "      <td>0.000000e+00</td>\n",
              "      <td>9.100000e+02</td>\n",
              "      <td>1.886000e+03</td>\n",
              "      <td>3.065000e+03</td>\n",
              "      <td>4.039000e+03</td>\n",
              "    </tr>\n",
              "    <tr>\n",
              "      <th>FECHA DE EMBARQUE</th>\n",
              "      <td>27706.0</td>\n",
              "      <td>1.892377e+07</td>\n",
              "      <td>4.899472e+06</td>\n",
              "      <td>0.000000e+00</td>\n",
              "      <td>2.017121e+07</td>\n",
              "      <td>2.019110e+07</td>\n",
              "      <td>2.022040e+07</td>\n",
              "      <td>2.022102e+07</td>\n",
              "    </tr>\n",
              "    <tr>\n",
              "      <th>FECHA DE LLEGADA</th>\n",
              "      <td>27706.0</td>\n",
              "      <td>2.013801e+07</td>\n",
              "      <td>2.622432e+05</td>\n",
              "      <td>1.900010e+07</td>\n",
              "      <td>2.018021e+07</td>\n",
              "      <td>2.019122e+07</td>\n",
              "      <td>2.022051e+07</td>\n",
              "      <td>2.022111e+07</td>\n",
              "    </tr>\n",
              "    <tr>\n",
              "      <th>FECHA INGRESO SISTEMA</th>\n",
              "      <td>27706.0</td>\n",
              "      <td>2.019839e+07</td>\n",
              "      <td>1.987318e+04</td>\n",
              "      <td>2.017010e+07</td>\n",
              "      <td>2.018061e+07</td>\n",
              "      <td>2.020031e+07</td>\n",
              "      <td>2.022053e+07</td>\n",
              "      <td>2.022123e+07</td>\n",
              "    </tr>\n",
              "    <tr>\n",
              "      <th>FECHA PAGO</th>\n",
              "      <td>27706.0</td>\n",
              "      <td>1.759669e+07</td>\n",
              "      <td>6.740923e+06</td>\n",
              "      <td>0.000000e+00</td>\n",
              "      <td>2.017090e+07</td>\n",
              "      <td>2.019072e+07</td>\n",
              "      <td>2.022041e+07</td>\n",
              "      <td>2.022091e+07</td>\n",
              "    </tr>\n",
              "    <tr>\n",
              "      <th>PRODUCTO</th>\n",
              "      <td>27706.0</td>\n",
              "      <td>2.566235e+03</td>\n",
              "      <td>1.492064e+03</td>\n",
              "      <td>0.000000e+00</td>\n",
              "      <td>1.218000e+03</td>\n",
              "      <td>2.723500e+03</td>\n",
              "      <td>3.740000e+03</td>\n",
              "      <td>4.733000e+03</td>\n",
              "    </tr>\n",
              "    <tr>\n",
              "      <th>US$ FOB UNIT</th>\n",
              "      <td>27706.0</td>\n",
              "      <td>2.371739e+01</td>\n",
              "      <td>2.608699e+01</td>\n",
              "      <td>1.600000e-01</td>\n",
              "      <td>2.250000e+00</td>\n",
              "      <td>1.332000e+01</td>\n",
              "      <td>3.599750e+01</td>\n",
              "      <td>7.991500e+01</td>\n",
              "    </tr>\n",
              "    <tr>\n",
              "      <th>FECHA DE LIQUIDACIÓN</th>\n",
              "      <td>27706.0</td>\n",
              "      <td>2.020846e+07</td>\n",
              "      <td>1.573278e+04</td>\n",
              "      <td>2.018093e+07</td>\n",
              "      <td>2.019103e+07</td>\n",
              "      <td>2.022042e+07</td>\n",
              "      <td>2.022111e+07</td>\n",
              "      <td>2.022111e+07</td>\n",
              "    </tr>\n",
              "    <tr>\n",
              "      <th>INCOTERM</th>\n",
              "      <td>27706.0</td>\n",
              "      <td>8.842525e+00</td>\n",
              "      <td>3.820234e+00</td>\n",
              "      <td>0.000000e+00</td>\n",
              "      <td>1.000000e+01</td>\n",
              "      <td>1.000000e+01</td>\n",
              "      <td>1.200000e+01</td>\n",
              "      <td>1.200000e+01</td>\n",
              "    </tr>\n",
              "    <tr>\n",
              "      <th>AGENCIA DE CARGA</th>\n",
              "      <td>27706.0</td>\n",
              "      <td>1.322803e+02</td>\n",
              "      <td>7.997708e+01</td>\n",
              "      <td>0.000000e+00</td>\n",
              "      <td>4.300000e+01</td>\n",
              "      <td>1.390000e+02</td>\n",
              "      <td>2.180000e+02</td>\n",
              "      <td>2.210000e+02</td>\n",
              "    </tr>\n",
              "    <tr>\n",
              "      <th>ESTADO DE MERCANCIA</th>\n",
              "      <td>27706.0</td>\n",
              "      <td>1.000000e+00</td>\n",
              "      <td>0.000000e+00</td>\n",
              "      <td>1.000000e+00</td>\n",
              "      <td>1.000000e+00</td>\n",
              "      <td>1.000000e+00</td>\n",
              "      <td>1.000000e+00</td>\n",
              "      <td>1.000000e+00</td>\n",
              "    </tr>\n",
              "    <tr>\n",
              "      <th>VIA DE TRANSPORTE</th>\n",
              "      <td>27706.0</td>\n",
              "      <td>1.714791e+00</td>\n",
              "      <td>6.868523e-01</td>\n",
              "      <td>0.000000e+00</td>\n",
              "      <td>2.000000e+00</td>\n",
              "      <td>2.000000e+00</td>\n",
              "      <td>2.000000e+00</td>\n",
              "      <td>2.000000e+00</td>\n",
              "    </tr>\n",
              "    <tr>\n",
              "      <th>PAÍS DE ORIGEN</th>\n",
              "      <td>27706.0</td>\n",
              "      <td>3.935898e+00</td>\n",
              "      <td>6.250784e+00</td>\n",
              "      <td>2.000000e+00</td>\n",
              "      <td>2.000000e+00</td>\n",
              "      <td>2.000000e+00</td>\n",
              "      <td>2.000000e+00</td>\n",
              "      <td>2.500000e+01</td>\n",
              "    </tr>\n",
              "    <tr>\n",
              "      <th>DEPOSITO COMERCIAL</th>\n",
              "      <td>27706.0</td>\n",
              "      <td>1.338735e+01</td>\n",
              "      <td>2.272097e+00</td>\n",
              "      <td>1.100000e+01</td>\n",
              "      <td>1.200000e+01</td>\n",
              "      <td>1.200000e+01</td>\n",
              "      <td>1.500000e+01</td>\n",
              "      <td>2.000000e+01</td>\n",
              "    </tr>\n",
              "    <tr>\n",
              "      <th>AÑO FABRICACIÓN</th>\n",
              "      <td>27706.0</td>\n",
              "      <td>2.020580e+03</td>\n",
              "      <td>1.908020e+00</td>\n",
              "      <td>2.017000e+03</td>\n",
              "      <td>2.019000e+03</td>\n",
              "      <td>2.022000e+03</td>\n",
              "      <td>2.022000e+03</td>\n",
              "      <td>2.022000e+03</td>\n",
              "    </tr>\n",
              "    <tr>\n",
              "      <th>label</th>\n",
              "      <td>27706.0</td>\n",
              "      <td>1.488234e+00</td>\n",
              "      <td>1.095522e+00</td>\n",
              "      <td>0.000000e+00</td>\n",
              "      <td>1.000000e+00</td>\n",
              "      <td>1.000000e+00</td>\n",
              "      <td>3.000000e+00</td>\n",
              "      <td>3.000000e+00</td>\n",
              "    </tr>\n",
              "  </tbody>\n",
              "</table>\n",
              "</div>\n",
              "      <button class=\"colab-df-convert\" onclick=\"convertToInteractive('df-b136655d-8b0c-4c18-8e4a-e8875cf2e993')\"\n",
              "              title=\"Convert this dataframe to an interactive table.\"\n",
              "              style=\"display:none;\">\n",
              "        \n",
              "  <svg xmlns=\"http://www.w3.org/2000/svg\" height=\"24px\"viewBox=\"0 0 24 24\"\n",
              "       width=\"24px\">\n",
              "    <path d=\"M0 0h24v24H0V0z\" fill=\"none\"/>\n",
              "    <path d=\"M18.56 5.44l.94 2.06.94-2.06 2.06-.94-2.06-.94-.94-2.06-.94 2.06-2.06.94zm-11 1L8.5 8.5l.94-2.06 2.06-.94-2.06-.94L8.5 2.5l-.94 2.06-2.06.94zm10 10l.94 2.06.94-2.06 2.06-.94-2.06-.94-.94-2.06-.94 2.06-2.06.94z\"/><path d=\"M17.41 7.96l-1.37-1.37c-.4-.4-.92-.59-1.43-.59-.52 0-1.04.2-1.43.59L10.3 9.45l-7.72 7.72c-.78.78-.78 2.05 0 2.83L4 21.41c.39.39.9.59 1.41.59.51 0 1.02-.2 1.41-.59l7.78-7.78 2.81-2.81c.8-.78.8-2.07 0-2.86zM5.41 20L4 18.59l7.72-7.72 1.47 1.35L5.41 20z\"/>\n",
              "  </svg>\n",
              "      </button>\n",
              "      \n",
              "  <style>\n",
              "    .colab-df-container {\n",
              "      display:flex;\n",
              "      flex-wrap:wrap;\n",
              "      gap: 12px;\n",
              "    }\n",
              "\n",
              "    .colab-df-convert {\n",
              "      background-color: #E8F0FE;\n",
              "      border: none;\n",
              "      border-radius: 50%;\n",
              "      cursor: pointer;\n",
              "      display: none;\n",
              "      fill: #1967D2;\n",
              "      height: 32px;\n",
              "      padding: 0 0 0 0;\n",
              "      width: 32px;\n",
              "    }\n",
              "\n",
              "    .colab-df-convert:hover {\n",
              "      background-color: #E2EBFA;\n",
              "      box-shadow: 0px 1px 2px rgba(60, 64, 67, 0.3), 0px 1px 3px 1px rgba(60, 64, 67, 0.15);\n",
              "      fill: #174EA6;\n",
              "    }\n",
              "\n",
              "    [theme=dark] .colab-df-convert {\n",
              "      background-color: #3B4455;\n",
              "      fill: #D2E3FC;\n",
              "    }\n",
              "\n",
              "    [theme=dark] .colab-df-convert:hover {\n",
              "      background-color: #434B5C;\n",
              "      box-shadow: 0px 1px 3px 1px rgba(0, 0, 0, 0.15);\n",
              "      filter: drop-shadow(0px 1px 2px rgba(0, 0, 0, 0.3));\n",
              "      fill: #FFFFFF;\n",
              "    }\n",
              "  </style>\n",
              "\n",
              "      <script>\n",
              "        const buttonEl =\n",
              "          document.querySelector('#df-b136655d-8b0c-4c18-8e4a-e8875cf2e993 button.colab-df-convert');\n",
              "        buttonEl.style.display =\n",
              "          google.colab.kernel.accessAllowed ? 'block' : 'none';\n",
              "\n",
              "        async function convertToInteractive(key) {\n",
              "          const element = document.querySelector('#df-b136655d-8b0c-4c18-8e4a-e8875cf2e993');\n",
              "          const dataTable =\n",
              "            await google.colab.kernel.invokeFunction('convertToInteractive',\n",
              "                                                     [key], {});\n",
              "          if (!dataTable) return;\n",
              "\n",
              "          const docLinkHtml = 'Like what you see? Visit the ' +\n",
              "            '<a target=\"_blank\" href=https://colab.research.google.com/notebooks/data_table.ipynb>data table notebook</a>'\n",
              "            + ' to learn more about interactive tables.';\n",
              "          element.innerHTML = '';\n",
              "          dataTable['output_type'] = 'display_data';\n",
              "          await google.colab.output.renderOutput(dataTable, element);\n",
              "          const docLink = document.createElement('div');\n",
              "          docLink.innerHTML = docLinkHtml;\n",
              "          element.appendChild(docLink);\n",
              "        }\n",
              "      </script>\n",
              "    </div>\n",
              "  </div>\n",
              "  "
            ]
          },
          "metadata": {},
          "execution_count": 99
        }
      ]
    },
    {
      "cell_type": "code",
      "source": [
        "df.hist()"
      ],
      "metadata": {
        "colab": {
          "base_uri": "https://localhost:8080/",
          "height": 938
        },
        "id": "yOa17KlJVoUv",
        "outputId": "991f423a-843e-4853-c37d-117d12e0b59c"
      },
      "execution_count": 100,
      "outputs": [
        {
          "output_type": "execute_result",
          "data": {
            "text/plain": [
              "array([[<AxesSubplot:title={'center':'Unnamed: 0'}>,\n",
              "        <AxesSubplot:title={'center':'MES'}>,\n",
              "        <AxesSubplot:title={'center':'REGIMEN ADUANERO'}>,\n",
              "        <AxesSubplot:title={'center':'DAU'}>,\n",
              "        <AxesSubplot:title={'center':'IMPORTADOR'}>,\n",
              "        <AxesSubplot:title={'center':'PAIS DE PROCEDENCIA'}>],\n",
              "       [<AxesSubplot:title={'center':'ADUANA'}>,\n",
              "        <AxesSubplot:title={'center':'PARTIDA ARANCELARIA'}>,\n",
              "        <AxesSubplot:title={'center':'DESCRIPCIÓN ARANCELARIA'}>,\n",
              "        <AxesSubplot:title={'center':'DESCRIPCION PRODUCTO COMERCIAL'}>,\n",
              "        <AxesSubplot:title={'center':'BULTOS'}>,\n",
              "        <AxesSubplot:title={'center':'CANTIDAD'}>],\n",
              "       [<AxesSubplot:title={'center':'UNIDAD DE MEDIDA'}>,\n",
              "        <AxesSubplot:title={'center':'ADVALOREM'}>,\n",
              "        <AxesSubplot:title={'center':'EMPRESA DE TRANSPORTE'}>,\n",
              "        <AxesSubplot:title={'center':'PAÍS DE EMBARQUE'}>,\n",
              "        <AxesSubplot:title={'center':'CONTENEDOR'}>,\n",
              "        <AxesSubplot:title={'center':'NAVE'}>],\n",
              "       [<AxesSubplot:title={'center':'PESO NETO KG'}>,\n",
              "        <AxesSubplot:title={'center':'TIPO AFORO'}>,\n",
              "        <AxesSubplot:title={'center':'DIRECCIÓN CONSIGNATARIO'}>,\n",
              "        <AxesSubplot:title={'center':'FECHA DE EMBARQUE'}>,\n",
              "        <AxesSubplot:title={'center':'FECHA DE LLEGADA'}>,\n",
              "        <AxesSubplot:title={'center':'FECHA INGRESO SISTEMA'}>],\n",
              "       [<AxesSubplot:title={'center':'FECHA PAGO'}>,\n",
              "        <AxesSubplot:title={'center':'PRODUCTO'}>,\n",
              "        <AxesSubplot:title={'center':'US$ FOB UNIT'}>,\n",
              "        <AxesSubplot:title={'center':'FECHA DE LIQUIDACIÓN'}>,\n",
              "        <AxesSubplot:title={'center':'INCOTERM'}>,\n",
              "        <AxesSubplot:title={'center':'AGENCIA DE CARGA'}>],\n",
              "       [<AxesSubplot:title={'center':'ESTADO DE MERCANCIA'}>,\n",
              "        <AxesSubplot:title={'center':'VIA DE TRANSPORTE'}>,\n",
              "        <AxesSubplot:title={'center':'PAÍS DE ORIGEN'}>,\n",
              "        <AxesSubplot:title={'center':'DEPOSITO COMERCIAL'}>,\n",
              "        <AxesSubplot:title={'center':'AÑO FABRICACIÓN'}>,\n",
              "        <AxesSubplot:title={'center':'label'}>]], dtype=object)"
            ]
          },
          "metadata": {},
          "execution_count": 100
        },
        {
          "output_type": "display_data",
          "data": {
            "text/plain": [
              "<Figure size 432x288 with 36 Axes>"
            ],
            "image/png": "[encoded data removed]"
          },
          "metadata": {
            "needs_background": "light"
          }
        }
      ]
    },
    {
      "cell_type": "code",
      "source": [
        "labelEncoder = LabelEncoder()\n",
        "df_aux_LabelEN = df\n",
        "df_aux_LabelEN['label'] = labelEncoder.fit_transform(df_aux_LabelEN['label'])\n",
        "y = df_aux_LabelEN['label']\n",
        "X = df_aux_LabelEN.drop('label',axis=1)"
      ],
      "metadata": {
        "id": "kir5HDK0agpK"
      },
      "execution_count": 101,
      "outputs": []
    },
    {
      "cell_type": "code",
      "source": [
        "X"
      ],
      "metadata": {
        "colab": {
          "base_uri": "https://localhost:8080/",
          "height": 522
        },
        "id": "RfC4ec35a2du",
        "outputId": "b15e6d75-5e3b-441c-e1f0-6498cfc0e43f"
      },
      "execution_count": 102,
      "outputs": [
        {
          "output_type": "execute_result",
          "data": {
            "text/plain": [
              "       Unnamed: 0  MES  REGIMEN ADUANERO           DAU  IMPORTADOR  \\\n",
              "0               0    1                 7  1.070000e+02        2785   \n",
              "1               1    1                 7  3.916160e+06         232   \n",
              "2               2    1                 7  3.916160e+06         232   \n",
              "3               3    1                 7  3.916160e+06         232   \n",
              "4               4    1                 7  3.916160e+06         232   \n",
              "...           ...  ...               ...           ...         ...   \n",
              "27701       27701   12                 8  3.916160e+06        1775   \n",
              "27702       27702   12                 8  3.916160e+06        1128   \n",
              "27703       27703   12                 8  3.916160e+06         993   \n",
              "27704       27704   12                 8  3.916160e+06        2424   \n",
              "27705       27705   12                 8  3.916160e+06         791   \n",
              "\n",
              "       PAIS DE PROCEDENCIA  ADUANA  PARTIDA ARANCELARIA  \\\n",
              "0                        8       3           8516790000   \n",
              "1                       42       3           8516500000   \n",
              "2                       42       3           8516790000   \n",
              "3                       42       3           8516790000   \n",
              "4                       42       3           8516790000   \n",
              "...                    ...     ...                  ...   \n",
              "27701                   42       5           8516790000   \n",
              "27702                   42       2           8516790000   \n",
              "27703                   42       5           8516790000   \n",
              "27704                   42       5           8516790000   \n",
              "27705                   42       5           8516790000   \n",
              "\n",
              "       DESCRIPCIÓN ARANCELARIA  DESCRIPCION PRODUCTO COMERCIAL  ...  PRODUCTO  \\\n",
              "0                            2                            4315  ...      3117   \n",
              "1                            1                            3408  ...      2564   \n",
              "2                            2                            4136  ...      3025   \n",
              "3                            2                            4035  ...      2961   \n",
              "4                            2                            4054  ...      2980   \n",
              "...                        ...                             ...  ...       ...   \n",
              "27701                        3                            4699  ...      4733   \n",
              "27702                        3                            2891  ...      4733   \n",
              "27703                        3                            5477  ...      4733   \n",
              "27704                        3                            3702  ...      4733   \n",
              "27705                        3                            1522  ...      4733   \n",
              "\n",
              "       US$ FOB UNIT  FECHA DE LIQUIDACIÓN  INCOTERM  AGENCIA DE CARGA  \\\n",
              "0          0.160000              20220114        10               218   \n",
              "1          9.000000              20220105        10               127   \n",
              "2         10.000000              20220105        10               127   \n",
              "3         11.000000              20220105        10               127   \n",
              "4         11.000000              20220105        10               127   \n",
              "...             ...                   ...       ...               ...   \n",
              "27701     51.924529              20221109        12               221   \n",
              "27702     51.924529              20221109        12               221   \n",
              "27703     51.924529              20221109        12               221   \n",
              "27704     51.924529              20221109        12               221   \n",
              "27705     51.924529              20221109        12               221   \n",
              "\n",
              "       ESTADO DE MERCANCIA  VIA DE TRANSPORTE  PAÍS DE ORIGEN  \\\n",
              "0                        1                  2               2   \n",
              "1                        1                  2              25   \n",
              "2                        1                  2              25   \n",
              "3                        1                  2              25   \n",
              "4                        1                  2              25   \n",
              "...                    ...                ...             ...   \n",
              "27701                    1                  0               2   \n",
              "27702                    1                  0               2   \n",
              "27703                    1                  0               2   \n",
              "27704                    1                  0               2   \n",
              "27705                    1                  0               2   \n",
              "\n",
              "       DEPOSITO COMERCIAL  AÑO FABRICACIÓN  \n",
              "0                      12             2022  \n",
              "1                      15             2021  \n",
              "2                      15             2021  \n",
              "3                      15             2021  \n",
              "4                      15             2021  \n",
              "...                   ...              ...  \n",
              "27701                  12             2022  \n",
              "27702                  12             2022  \n",
              "27703                  12             2022  \n",
              "27704                  12             2022  \n",
              "27705                  12             2022  \n",
              "\n",
              "[27706 rows x 35 columns]"
            ],
            "text/html": [
              "\n",
              "  <div id=\"df-fc1d0643-9a7f-4d62-94ef-3612285af570\">\n",
              "    <div class=\"colab-df-container\">\n",
              "      <div>\n",
              "<style scoped>\n",
              "    .dataframe tbody tr th:only-of-type {\n",
              "        vertical-align: middle;\n",
              "    }\n",
              "\n",
              "    .dataframe tbody tr th {\n",
              "        vertical-align: top;\n",
              "    }\n",
              "\n",
              "    .dataframe thead th {\n",
              "        text-align: right;\n",
              "    }\n",
              "</style>\n",
              "<table border=\"1\" class=\"dataframe\">\n",
              "  <thead>\n",
              "    <tr style=\"text-align: right;\">\n",
              "      <th></th>\n",
              "      <th>Unnamed: 0</th>\n",
              "      <th>MES</th>\n",
              "      <th>REGIMEN ADUANERO</th>\n",
              "      <th>DAU</th>\n",
              "      <th>IMPORTADOR</th>\n",
              "      <th>PAIS DE PROCEDENCIA</th>\n",
              "      <th>ADUANA</th>\n",
              "      <th>PARTIDA ARANCELARIA</th>\n",
              "      <th>DESCRIPCIÓN ARANCELARIA</th>\n",
              "      <th>DESCRIPCION PRODUCTO COMERCIAL</th>\n",
              "      <th>...</th>\n",
              "      <th>PRODUCTO</th>\n",
              "      <th>US$ FOB UNIT</th>\n",
              "      <th>FECHA DE LIQUIDACIÓN</th>\n",
              "      <th>INCOTERM</th>\n",
              "      <th>AGENCIA DE CARGA</th>\n",
              "      <th>ESTADO DE MERCANCIA</th>\n",
              "      <th>VIA DE TRANSPORTE</th>\n",
              "      <th>PAÍS DE ORIGEN</th>\n",
              "      <th>DEPOSITO COMERCIAL</th>\n",
              "      <th>AÑO FABRICACIÓN</th>\n",
              "    </tr>\n",
              "  </thead>\n",
              "  <tbody>\n",
              "    <tr>\n",
              "      <th>0</th>\n",
              "      <td>0</td>\n",
              "      <td>1</td>\n",
              "      <td>7</td>\n",
              "      <td>1.070000e+02</td>\n",
              "      <td>2785</td>\n",
              "      <td>8</td>\n",
              "      <td>3</td>\n",
              "      <td>8516790000</td>\n",
              "      <td>2</td>\n",
              "      <td>4315</td>\n",
              "      <td>...</td>\n",
              "      <td>3117</td>\n",
              "      <td>0.160000</td>\n",
              "      <td>20220114</td>\n",
              "      <td>10</td>\n",
              "      <td>218</td>\n",
              "      <td>1</td>\n",
              "      <td>2</td>\n",
              "      <td>2</td>\n",
              "      <td>12</td>\n",
              "      <td>2022</td>\n",
              "    </tr>\n",
              "    <tr>\n",
              "      <th>1</th>\n",
              "      <td>1</td>\n",
              "      <td>1</td>\n",
              "      <td>7</td>\n",
              "      <td>3.916160e+06</td>\n",
              "      <td>232</td>\n",
              "      <td>42</td>\n",
              "      <td>3</td>\n",
              "      <td>8516500000</td>\n",
              "      <td>1</td>\n",
              "      <td>3408</td>\n",
              "      <td>...</td>\n",
              "      <td>2564</td>\n",
              "      <td>9.000000</td>\n",
              "      <td>20220105</td>\n",
              "      <td>10</td>\n",
              "      <td>127</td>\n",
              "      <td>1</td>\n",
              "      <td>2</td>\n",
              "      <td>25</td>\n",
              "      <td>15</td>\n",
              "      <td>2021</td>\n",
              "    </tr>\n",
              "    <tr>\n",
              "      <th>2</th>\n",
              "      <td>2</td>\n",
              "      <td>1</td>\n",
              "      <td>7</td>\n",
              "      <td>3.916160e+06</td>\n",
              "      <td>232</td>\n",
              "      <td>42</td>\n",
              "      <td>3</td>\n",
              "      <td>8516790000</td>\n",
              "      <td>2</td>\n",
              "      <td>4136</td>\n",
              "      <td>...</td>\n",
              "      <td>3025</td>\n",
              "      <td>10.000000</td>\n",
              "      <td>20220105</td>\n",
              "      <td>10</td>\n",
              "      <td>127</td>\n",
              "      <td>1</td>\n",
              "      <td>2</td>\n",
              "      <td>25</td>\n",
              "      <td>15</td>\n",
              "      <td>2021</td>\n",
              "    </tr>\n",
              "    <tr>\n",
              "      <th>3</th>\n",
              "      <td>3</td>\n",
              "      <td>1</td>\n",
              "      <td>7</td>\n",
              "      <td>3.916160e+06</td>\n",
              "      <td>232</td>\n",
              "      <td>42</td>\n",
              "      <td>3</td>\n",
              "      <td>8516790000</td>\n",
              "      <td>2</td>\n",
              "      <td>4035</td>\n",
              "      <td>...</td>\n",
              "      <td>2961</td>\n",
              "      <td>11.000000</td>\n",
              "      <td>20220105</td>\n",
              "      <td>10</td>\n",
              "      <td>127</td>\n",
              "      <td>1</td>\n",
              "      <td>2</td>\n",
              "      <td>25</td>\n",
              "      <td>15</td>\n",
              "      <td>2021</td>\n",
              "    </tr>\n",
              "    <tr>\n",
              "      <th>4</th>\n",
              "      <td>4</td>\n",
              "      <td>1</td>\n",
              "      <td>7</td>\n",
              "      <td>3.916160e+06</td>\n",
              "      <td>232</td>\n",
              "      <td>42</td>\n",
              "      <td>3</td>\n",
              "      <td>8516790000</td>\n",
              "      <td>2</td>\n",
              "      <td>4054</td>\n",
              "      <td>...</td>\n",
              "      <td>2980</td>\n",
              "      <td>11.000000</td>\n",
              "      <td>20220105</td>\n",
              "      <td>10</td>\n",
              "      <td>127</td>\n",
              "      <td>1</td>\n",
              "      <td>2</td>\n",
              "      <td>25</td>\n",
              "      <td>15</td>\n",
              "      <td>2021</td>\n",
              "    </tr>\n",
              "    <tr>\n",
              "      <th>...</th>\n",
              "      <td>...</td>\n",
              "      <td>...</td>\n",
              "      <td>...</td>\n",
              "      <td>...</td>\n",
              "      <td>...</td>\n",
              "      <td>...</td>\n",
              "      <td>...</td>\n",
              "      <td>...</td>\n",
              "      <td>...</td>\n",
              "      <td>...</td>\n",
              "      <td>...</td>\n",
              "      <td>...</td>\n",
              "      <td>...</td>\n",
              "      <td>...</td>\n",
              "      <td>...</td>\n",
              "      <td>...</td>\n",
              "      <td>...</td>\n",
              "      <td>...</td>\n",
              "      <td>...</td>\n",
              "      <td>...</td>\n",
              "      <td>...</td>\n",
              "    </tr>\n",
              "    <tr>\n",
              "      <th>27701</th>\n",
              "      <td>27701</td>\n",
              "      <td>12</td>\n",
              "      <td>8</td>\n",
              "      <td>3.916160e+06</td>\n",
              "      <td>1775</td>\n",
              "      <td>42</td>\n",
              "      <td>5</td>\n",
              "      <td>8516790000</td>\n",
              "      <td>3</td>\n",
              "      <td>4699</td>\n",
              "      <td>...</td>\n",
              "      <td>4733</td>\n",
              "      <td>51.924529</td>\n",
              "      <td>20221109</td>\n",
              "      <td>12</td>\n",
              "      <td>221</td>\n",
              "      <td>1</td>\n",
              "      <td>0</td>\n",
              "      <td>2</td>\n",
              "      <td>12</td>\n",
              "      <td>2022</td>\n",
              "    </tr>\n",
              "    <tr>\n",
              "      <th>27702</th>\n",
              "      <td>27702</td>\n",
              "      <td>12</td>\n",
              "      <td>8</td>\n",
              "      <td>3.916160e+06</td>\n",
              "      <td>1128</td>\n",
              "      <td>42</td>\n",
              "      <td>2</td>\n",
              "      <td>8516790000</td>\n",
              "      <td>3</td>\n",
              "      <td>2891</td>\n",
              "      <td>...</td>\n",
              "      <td>4733</td>\n",
              "      <td>51.924529</td>\n",
              "      <td>20221109</td>\n",
              "      <td>12</td>\n",
              "      <td>221</td>\n",
              "      <td>1</td>\n",
              "      <td>0</td>\n",
              "      <td>2</td>\n",
              "      <td>12</td>\n",
              "      <td>2022</td>\n",
              "    </tr>\n",
              "    <tr>\n",
              "      <th>27703</th>\n",
              "      <td>27703</td>\n",
              "      <td>12</td>\n",
              "      <td>8</td>\n",
              "      <td>3.916160e+06</td>\n",
              "      <td>993</td>\n",
              "      <td>42</td>\n",
              "      <td>5</td>\n",
              "      <td>8516790000</td>\n",
              "      <td>3</td>\n",
              "      <td>5477</td>\n",
              "      <td>...</td>\n",
              "      <td>4733</td>\n",
              "      <td>51.924529</td>\n",
              "      <td>20221109</td>\n",
              "      <td>12</td>\n",
              "      <td>221</td>\n",
              "      <td>1</td>\n",
              "      <td>0</td>\n",
              "      <td>2</td>\n",
              "      <td>12</td>\n",
              "      <td>2022</td>\n",
              "    </tr>\n",
              "    <tr>\n",
              "      <th>27704</th>\n",
              "      <td>27704</td>\n",
              "      <td>12</td>\n",
              "      <td>8</td>\n",
              "      <td>3.916160e+06</td>\n",
              "      <td>2424</td>\n",
              "      <td>42</td>\n",
              "      <td>5</td>\n",
              "      <td>8516790000</td>\n",
              "      <td>3</td>\n",
              "      <td>3702</td>\n",
              "      <td>...</td>\n",
              "      <td>4733</td>\n",
              "      <td>51.924529</td>\n",
              "      <td>20221109</td>\n",
              "      <td>12</td>\n",
              "      <td>221</td>\n",
              "      <td>1</td>\n",
              "      <td>0</td>\n",
              "      <td>2</td>\n",
              "      <td>12</td>\n",
              "      <td>2022</td>\n",
              "    </tr>\n",
              "    <tr>\n",
              "      <th>27705</th>\n",
              "      <td>27705</td>\n",
              "      <td>12</td>\n",
              "      <td>8</td>\n",
              "      <td>3.916160e+06</td>\n",
              "      <td>791</td>\n",
              "      <td>42</td>\n",
              "      <td>5</td>\n",
              "      <td>8516790000</td>\n",
              "      <td>3</td>\n",
              "      <td>1522</td>\n",
              "      <td>...</td>\n",
              "      <td>4733</td>\n",
              "      <td>51.924529</td>\n",
              "      <td>20221109</td>\n",
              "      <td>12</td>\n",
              "      <td>221</td>\n",
              "      <td>1</td>\n",
              "      <td>0</td>\n",
              "      <td>2</td>\n",
              "      <td>12</td>\n",
              "      <td>2022</td>\n",
              "    </tr>\n",
              "  </tbody>\n",
              "</table>\n",
              "<p>27706 rows × 35 columns</p>\n",
              "</div>\n",
              "      <button class=\"colab-df-convert\" onclick=\"convertToInteractive('df-fc1d0643-9a7f-4d62-94ef-3612285af570')\"\n",
              "              title=\"Convert this dataframe to an interactive table.\"\n",
              "              style=\"display:none;\">\n",
              "        \n",
              "  <svg xmlns=\"http://www.w3.org/2000/svg\" height=\"24px\"viewBox=\"0 0 24 24\"\n",
              "       width=\"24px\">\n",
              "    <path d=\"M0 0h24v24H0V0z\" fill=\"none\"/>\n",
              "    <path d=\"M18.56 5.44l.94 2.06.94-2.06 2.06-.94-2.06-.94-.94-2.06-.94 2.06-2.06.94zm-11 1L8.5 8.5l.94-2.06 2.06-.94-2.06-.94L8.5 2.5l-.94 2.06-2.06.94zm10 10l.94 2.06.94-2.06 2.06-.94-2.06-.94-.94-2.06-.94 2.06-2.06.94z\"/><path d=\"M17.41 7.96l-1.37-1.37c-.4-.4-.92-.59-1.43-.59-.52 0-1.04.2-1.43.59L10.3 9.45l-7.72 7.72c-.78.78-.78 2.05 0 2.83L4 21.41c.39.39.9.59 1.41.59.51 0 1.02-.2 1.41-.59l7.78-7.78 2.81-2.81c.8-.78.8-2.07 0-2.86zM5.41 20L4 18.59l7.72-7.72 1.47 1.35L5.41 20z\"/>\n",
              "  </svg>\n",
              "      </button>\n",
              "      \n",
              "  <style>\n",
              "    .colab-df-container {\n",
              "      display:flex;\n",
              "      flex-wrap:wrap;\n",
              "      gap: 12px;\n",
              "    }\n",
              "\n",
              "    .colab-df-convert {\n",
              "      background-color: #E8F0FE;\n",
              "      border: none;\n",
              "      border-radius: 50%;\n",
              "      cursor: pointer;\n",
              "      display: none;\n",
              "      fill: #1967D2;\n",
              "      height: 32px;\n",
              "      padding: 0 0 0 0;\n",
              "      width: 32px;\n",
              "    }\n",
              "\n",
              "    .colab-df-convert:hover {\n",
              "      background-color: #E2EBFA;\n",
              "      box-shadow: 0px 1px 2px rgba(60, 64, 67, 0.3), 0px 1px 3px 1px rgba(60, 64, 67, 0.15);\n",
              "      fill: #174EA6;\n",
              "    }\n",
              "\n",
              "    [theme=dark] .colab-df-convert {\n",
              "      background-color: #3B4455;\n",
              "      fill: #D2E3FC;\n",
              "    }\n",
              "\n",
              "    [theme=dark] .colab-df-convert:hover {\n",
              "      background-color: #434B5C;\n",
              "      box-shadow: 0px 1px 3px 1px rgba(0, 0, 0, 0.15);\n",
              "      filter: drop-shadow(0px 1px 2px rgba(0, 0, 0, 0.3));\n",
              "      fill: #FFFFFF;\n",
              "    }\n",
              "  </style>\n",
              "\n",
              "      <script>\n",
              "        const buttonEl =\n",
              "          document.querySelector('#df-fc1d0643-9a7f-4d62-94ef-3612285af570 button.colab-df-convert');\n",
              "        buttonEl.style.display =\n",
              "          google.colab.kernel.accessAllowed ? 'block' : 'none';\n",
              "\n",
              "        async function convertToInteractive(key) {\n",
              "          const element = document.querySelector('#df-fc1d0643-9a7f-4d62-94ef-3612285af570');\n",
              "          const dataTable =\n",
              "            await google.colab.kernel.invokeFunction('convertToInteractive',\n",
              "                                                     [key], {});\n",
              "          if (!dataTable) return;\n",
              "\n",
              "          const docLinkHtml = 'Like what you see? Visit the ' +\n",
              "            '<a target=\"_blank\" href=https://colab.research.google.com/notebooks/data_table.ipynb>data table notebook</a>'\n",
              "            + ' to learn more about interactive tables.';\n",
              "          element.innerHTML = '';\n",
              "          dataTable['output_type'] = 'display_data';\n",
              "          await google.colab.output.renderOutput(dataTable, element);\n",
              "          const docLink = document.createElement('div');\n",
              "          docLink.innerHTML = docLinkHtml;\n",
              "          element.appendChild(docLink);\n",
              "        }\n",
              "      </script>\n",
              "    </div>\n",
              "  </div>\n",
              "  "
            ]
          },
          "metadata": {},
          "execution_count": 102
        }
      ]
    },
    {
      "cell_type": "code",
      "source": [
        "y"
      ],
      "metadata": {
        "colab": {
          "base_uri": "https://localhost:8080/"
        },
        "id": "-vRIBhEKa4Ss",
        "outputId": "efd262e7-7bd1-4b18-821a-bdc8b85716ac"
      },
      "execution_count": 103,
      "outputs": [
        {
          "output_type": "execute_result",
          "data": {
            "text/plain": [
              "0        3\n",
              "1        3\n",
              "2        2\n",
              "3        2\n",
              "4        2\n",
              "        ..\n",
              "27701    2\n",
              "27702    2\n",
              "27703    2\n",
              "27704    2\n",
              "27705    2\n",
              "Name: label, Length: 27706, dtype: int64"
            ]
          },
          "metadata": {},
          "execution_count": 103
        }
      ]
    },
    {
      "cell_type": "code",
      "source": [
        "scaler = MinMaxScaler()\n",
        "scaler.fit(X)\n",
        "X = scaler.transform(X)"
      ],
      "metadata": {
        "id": "8vVlpIT7a7Yk"
      },
      "execution_count": 104,
      "outputs": []
    },
    {
      "cell_type": "markdown",
      "source": [
        "ENTRENAMIENTO"
      ],
      "metadata": {
        "id": "HtmZWiz7b1ze"
      }
    },
    {
      "cell_type": "code",
      "source": [
        "X_train, X_test, y_train, y_test = train_test_split(X,y,random_state=500,test_size=0.2)"
      ],
      "metadata": {
        "id": "i3u4NEaDb3f0"
      },
      "execution_count": 105,
      "outputs": []
    },
    {
      "cell_type": "code",
      "source": [
        "y_train = pd.get_dummies(y_train)\n",
        "y_test = pd.get_dummies(y_test)"
      ],
      "metadata": {
        "id": "ieZngCv6b_De"
      },
      "execution_count": 106,
      "outputs": []
    },
    {
      "cell_type": "code",
      "source": [
        "ann = Sequential()\n",
        "ann.add(Dense(16,activation='relu'))\n",
        "ann.add(Dense(8,activation='relu'))\n",
        "ann.add(Dense(4,activation='softmax'))\n",
        "ann.compile(optimizer='adam',loss='categorical_crossentropy',metrics=['accuracy'])\n",
        "ann.fit(x=X_train, y=y_train, validation_data = (X_test,y_test),batch_size=500,epochs=200,verbose=1)"
      ],
      "metadata": {
        "colab": {
          "base_uri": "https://localhost:8080/"
        },
        "id": "GviaS9y4cBm5",
        "outputId": "19cacbfe-e34b-4a65-f5ad-57fa17ffe23a"
      },
      "execution_count": 107,
      "outputs": [
        {
          "output_type": "stream",
          "name": "stdout",
          "text": [
            "Epoch 1/200\n",
            "45/45 [==============================] - 1s 12ms/step - loss: 1.3465 - accuracy: 0.3162 - val_loss: 1.2412 - val_accuracy: 0.5291\n",
            "Epoch 2/200\n",
            "45/45 [==============================] - 0s 6ms/step - loss: 1.1338 - accuracy: 0.6264 - val_loss: 0.9997 - val_accuracy: 0.7297\n",
            "Epoch 3/200\n",
            "45/45 [==============================] - 0s 6ms/step - loss: 0.8562 - accuracy: 0.8096 - val_loss: 0.6892 - val_accuracy: 0.8766\n",
            "Epoch 4/200\n",
            "45/45 [==============================] - 0s 7ms/step - loss: 0.5508 - accuracy: 0.9090 - val_loss: 0.4102 - val_accuracy: 0.9388\n",
            "Epoch 5/200\n",
            "45/45 [==============================] - 0s 7ms/step - loss: 0.3247 - accuracy: 0.9470 - val_loss: 0.2477 - val_accuracy: 0.9596\n",
            "Epoch 6/200\n",
            "45/45 [==============================] - 0s 8ms/step - loss: 0.2048 - accuracy: 0.9676 - val_loss: 0.1665 - val_accuracy: 0.9729\n",
            "Epoch 7/200\n",
            "45/45 [==============================] - 0s 6ms/step - loss: 0.1432 - accuracy: 0.9764 - val_loss: 0.1215 - val_accuracy: 0.9818\n",
            "Epoch 8/200\n",
            "45/45 [==============================] - 0s 7ms/step - loss: 0.1087 - accuracy: 0.9810 - val_loss: 0.0955 - val_accuracy: 0.9832\n",
            "Epoch 9/200\n",
            "45/45 [==============================] - 0s 7ms/step - loss: 0.0878 - accuracy: 0.9828 - val_loss: 0.0791 - val_accuracy: 0.9854\n",
            "Epoch 10/200\n",
            "45/45 [==============================] - 0s 8ms/step - loss: 0.0738 - accuracy: 0.9844 - val_loss: 0.0668 - val_accuracy: 0.9863\n",
            "Epoch 11/200\n",
            "45/45 [==============================] - 0s 8ms/step - loss: 0.0636 - accuracy: 0.9858 - val_loss: 0.0581 - val_accuracy: 0.9859\n",
            "Epoch 12/200\n",
            "45/45 [==============================] - 0s 7ms/step - loss: 0.0559 - accuracy: 0.9869 - val_loss: 0.0513 - val_accuracy: 0.9872\n",
            "Epoch 13/200\n",
            "45/45 [==============================] - 0s 7ms/step - loss: 0.0500 - accuracy: 0.9884 - val_loss: 0.0468 - val_accuracy: 0.9894\n",
            "Epoch 14/200\n",
            "45/45 [==============================] - 0s 7ms/step - loss: 0.0457 - accuracy: 0.9890 - val_loss: 0.0429 - val_accuracy: 0.9910\n",
            "Epoch 15/200\n",
            "45/45 [==============================] - 0s 6ms/step - loss: 0.0422 - accuracy: 0.9903 - val_loss: 0.0397 - val_accuracy: 0.9908\n",
            "Epoch 16/200\n",
            "45/45 [==============================] - 0s 4ms/step - loss: 0.0392 - accuracy: 0.9911 - val_loss: 0.0373 - val_accuracy: 0.9915\n",
            "Epoch 17/200\n",
            "45/45 [==============================] - 0s 4ms/step - loss: 0.0369 - accuracy: 0.9919 - val_loss: 0.0354 - val_accuracy: 0.9919\n",
            "Epoch 18/200\n",
            "45/45 [==============================] - 0s 4ms/step - loss: 0.0349 - accuracy: 0.9922 - val_loss: 0.0338 - val_accuracy: 0.9915\n",
            "Epoch 19/200\n",
            "45/45 [==============================] - 0s 4ms/step - loss: 0.0332 - accuracy: 0.9931 - val_loss: 0.0318 - val_accuracy: 0.9921\n",
            "Epoch 20/200\n",
            "45/45 [==============================] - 0s 4ms/step - loss: 0.0314 - accuracy: 0.9937 - val_loss: 0.0305 - val_accuracy: 0.9928\n",
            "Epoch 21/200\n",
            "45/45 [==============================] - 0s 4ms/step - loss: 0.0301 - accuracy: 0.9930 - val_loss: 0.0293 - val_accuracy: 0.9926\n",
            "Epoch 22/200\n",
            "45/45 [==============================] - 0s 4ms/step - loss: 0.0291 - accuracy: 0.9933 - val_loss: 0.0283 - val_accuracy: 0.9940\n",
            "Epoch 23/200\n",
            "45/45 [==============================] - 0s 4ms/step - loss: 0.0277 - accuracy: 0.9935 - val_loss: 0.0272 - val_accuracy: 0.9933\n",
            "Epoch 24/200\n",
            "45/45 [==============================] - 0s 4ms/step - loss: 0.0264 - accuracy: 0.9944 - val_loss: 0.0262 - val_accuracy: 0.9937\n",
            "Epoch 25/200\n",
            "45/45 [==============================] - 0s 4ms/step - loss: 0.0256 - accuracy: 0.9949 - val_loss: 0.0253 - val_accuracy: 0.9942\n",
            "Epoch 26/200\n",
            "45/45 [==============================] - 0s 4ms/step - loss: 0.0249 - accuracy: 0.9941 - val_loss: 0.0247 - val_accuracy: 0.9937\n",
            "Epoch 27/200\n",
            "45/45 [==============================] - 0s 4ms/step - loss: 0.0239 - accuracy: 0.9949 - val_loss: 0.0238 - val_accuracy: 0.9940\n",
            "Epoch 28/200\n",
            "45/45 [==============================] - 0s 4ms/step - loss: 0.0232 - accuracy: 0.9950 - val_loss: 0.0234 - val_accuracy: 0.9940\n",
            "Epoch 29/200\n",
            "45/45 [==============================] - 0s 4ms/step - loss: 0.0225 - accuracy: 0.9951 - val_loss: 0.0228 - val_accuracy: 0.9937\n",
            "Epoch 30/200\n",
            "45/45 [==============================] - 0s 4ms/step - loss: 0.0220 - accuracy: 0.9954 - val_loss: 0.0221 - val_accuracy: 0.9939\n",
            "Epoch 31/200\n",
            "45/45 [==============================] - 0s 5ms/step - loss: 0.0213 - accuracy: 0.9953 - val_loss: 0.0214 - val_accuracy: 0.9944\n",
            "Epoch 32/200\n",
            "45/45 [==============================] - 0s 4ms/step - loss: 0.0206 - accuracy: 0.9958 - val_loss: 0.0219 - val_accuracy: 0.9946\n",
            "Epoch 33/200\n",
            "45/45 [==============================] - 0s 4ms/step - loss: 0.0204 - accuracy: 0.9956 - val_loss: 0.0205 - val_accuracy: 0.9951\n",
            "Epoch 34/200\n",
            "45/45 [==============================] - 0s 4ms/step - loss: 0.0197 - accuracy: 0.9958 - val_loss: 0.0202 - val_accuracy: 0.9946\n",
            "Epoch 35/200\n",
            "45/45 [==============================] - 0s 4ms/step - loss: 0.0194 - accuracy: 0.9955 - val_loss: 0.0197 - val_accuracy: 0.9949\n",
            "Epoch 36/200\n",
            "45/45 [==============================] - 0s 4ms/step - loss: 0.0188 - accuracy: 0.9957 - val_loss: 0.0193 - val_accuracy: 0.9955\n",
            "Epoch 37/200\n",
            "45/45 [==============================] - 0s 4ms/step - loss: 0.0184 - accuracy: 0.9958 - val_loss: 0.0192 - val_accuracy: 0.9951\n",
            "Epoch 38/200\n",
            "45/45 [==============================] - 0s 4ms/step - loss: 0.0181 - accuracy: 0.9958 - val_loss: 0.0186 - val_accuracy: 0.9953\n",
            "Epoch 39/200\n",
            "45/45 [==============================] - 0s 4ms/step - loss: 0.0176 - accuracy: 0.9960 - val_loss: 0.0184 - val_accuracy: 0.9949\n",
            "Epoch 40/200\n",
            "45/45 [==============================] - 0s 4ms/step - loss: 0.0174 - accuracy: 0.9962 - val_loss: 0.0181 - val_accuracy: 0.9955\n",
            "Epoch 41/200\n",
            "45/45 [==============================] - 0s 4ms/step - loss: 0.0168 - accuracy: 0.9966 - val_loss: 0.0178 - val_accuracy: 0.9949\n",
            "Epoch 42/200\n",
            "45/45 [==============================] - 0s 4ms/step - loss: 0.0166 - accuracy: 0.9958 - val_loss: 0.0174 - val_accuracy: 0.9953\n",
            "Epoch 43/200\n",
            "45/45 [==============================] - 0s 4ms/step - loss: 0.0163 - accuracy: 0.9965 - val_loss: 0.0178 - val_accuracy: 0.9951\n",
            "Epoch 44/200\n",
            "45/45 [==============================] - 0s 4ms/step - loss: 0.0162 - accuracy: 0.9959 - val_loss: 0.0168 - val_accuracy: 0.9957\n",
            "Epoch 45/200\n",
            "45/45 [==============================] - 0s 4ms/step - loss: 0.0157 - accuracy: 0.9964 - val_loss: 0.0166 - val_accuracy: 0.9958\n",
            "Epoch 46/200\n",
            "45/45 [==============================] - 0s 5ms/step - loss: 0.0155 - accuracy: 0.9970 - val_loss: 0.0167 - val_accuracy: 0.9948\n",
            "Epoch 47/200\n",
            "45/45 [==============================] - 0s 4ms/step - loss: 0.0154 - accuracy: 0.9965 - val_loss: 0.0162 - val_accuracy: 0.9958\n",
            "Epoch 48/200\n",
            "45/45 [==============================] - 0s 4ms/step - loss: 0.0149 - accuracy: 0.9966 - val_loss: 0.0158 - val_accuracy: 0.9957\n",
            "Epoch 49/200\n",
            "45/45 [==============================] - 0s 4ms/step - loss: 0.0149 - accuracy: 0.9970 - val_loss: 0.0165 - val_accuracy: 0.9955\n",
            "Epoch 50/200\n",
            "45/45 [==============================] - 0s 3ms/step - loss: 0.0145 - accuracy: 0.9967 - val_loss: 0.0158 - val_accuracy: 0.9955\n",
            "Epoch 51/200\n",
            "45/45 [==============================] - 0s 4ms/step - loss: 0.0142 - accuracy: 0.9969 - val_loss: 0.0153 - val_accuracy: 0.9955\n",
            "Epoch 52/200\n",
            "45/45 [==============================] - 0s 4ms/step - loss: 0.0139 - accuracy: 0.9972 - val_loss: 0.0159 - val_accuracy: 0.9949\n",
            "Epoch 53/200\n",
            "45/45 [==============================] - 0s 4ms/step - loss: 0.0139 - accuracy: 0.9964 - val_loss: 0.0149 - val_accuracy: 0.9960\n",
            "Epoch 54/200\n",
            "45/45 [==============================] - 0s 4ms/step - loss: 0.0135 - accuracy: 0.9969 - val_loss: 0.0148 - val_accuracy: 0.9958\n",
            "Epoch 55/200\n",
            "45/45 [==============================] - 0s 4ms/step - loss: 0.0135 - accuracy: 0.9967 - val_loss: 0.0149 - val_accuracy: 0.9953\n",
            "Epoch 56/200\n",
            "45/45 [==============================] - 0s 5ms/step - loss: 0.0134 - accuracy: 0.9968 - val_loss: 0.0149 - val_accuracy: 0.9951\n",
            "Epoch 57/200\n",
            "45/45 [==============================] - 0s 5ms/step - loss: 0.0136 - accuracy: 0.9967 - val_loss: 0.0151 - val_accuracy: 0.9949\n",
            "Epoch 58/200\n",
            "45/45 [==============================] - 0s 4ms/step - loss: 0.0129 - accuracy: 0.9972 - val_loss: 0.0141 - val_accuracy: 0.9958\n",
            "Epoch 59/200\n",
            "45/45 [==============================] - 0s 4ms/step - loss: 0.0127 - accuracy: 0.9970 - val_loss: 0.0147 - val_accuracy: 0.9958\n",
            "Epoch 60/200\n",
            "45/45 [==============================] - 0s 4ms/step - loss: 0.0125 - accuracy: 0.9971 - val_loss: 0.0139 - val_accuracy: 0.9960\n",
            "Epoch 61/200\n",
            "45/45 [==============================] - 0s 4ms/step - loss: 0.0122 - accuracy: 0.9975 - val_loss: 0.0139 - val_accuracy: 0.9958\n",
            "Epoch 62/200\n",
            "45/45 [==============================] - 0s 4ms/step - loss: 0.0124 - accuracy: 0.9968 - val_loss: 0.0140 - val_accuracy: 0.9958\n",
            "Epoch 63/200\n",
            "45/45 [==============================] - 0s 4ms/step - loss: 0.0120 - accuracy: 0.9971 - val_loss: 0.0135 - val_accuracy: 0.9964\n",
            "Epoch 64/200\n",
            "45/45 [==============================] - 0s 4ms/step - loss: 0.0117 - accuracy: 0.9974 - val_loss: 0.0133 - val_accuracy: 0.9960\n",
            "Epoch 65/200\n",
            "45/45 [==============================] - 0s 4ms/step - loss: 0.0117 - accuracy: 0.9970 - val_loss: 0.0141 - val_accuracy: 0.9957\n",
            "Epoch 66/200\n",
            "45/45 [==============================] - 0s 5ms/step - loss: 0.0114 - accuracy: 0.9977 - val_loss: 0.0132 - val_accuracy: 0.9962\n",
            "Epoch 67/200\n",
            "45/45 [==============================] - 0s 7ms/step - loss: 0.0116 - accuracy: 0.9974 - val_loss: 0.0134 - val_accuracy: 0.9962\n",
            "Epoch 68/200\n",
            "45/45 [==============================] - 0s 7ms/step - loss: 0.0113 - accuracy: 0.9973 - val_loss: 0.0130 - val_accuracy: 0.9960\n",
            "Epoch 69/200\n",
            "45/45 [==============================] - 0s 6ms/step - loss: 0.0111 - accuracy: 0.9976 - val_loss: 0.0129 - val_accuracy: 0.9962\n",
            "Epoch 70/200\n",
            "45/45 [==============================] - 0s 6ms/step - loss: 0.0111 - accuracy: 0.9973 - val_loss: 0.0130 - val_accuracy: 0.9955\n",
            "Epoch 71/200\n",
            "45/45 [==============================] - 0s 7ms/step - loss: 0.0107 - accuracy: 0.9976 - val_loss: 0.0124 - val_accuracy: 0.9962\n",
            "Epoch 72/200\n",
            "45/45 [==============================] - 0s 7ms/step - loss: 0.0107 - accuracy: 0.9972 - val_loss: 0.0125 - val_accuracy: 0.9964\n",
            "Epoch 73/200\n",
            "45/45 [==============================] - 0s 6ms/step - loss: 0.0107 - accuracy: 0.9977 - val_loss: 0.0130 - val_accuracy: 0.9957\n",
            "Epoch 74/200\n",
            "45/45 [==============================] - 0s 7ms/step - loss: 0.0106 - accuracy: 0.9976 - val_loss: 0.0122 - val_accuracy: 0.9964\n",
            "Epoch 75/200\n",
            "45/45 [==============================] - 0s 7ms/step - loss: 0.0105 - accuracy: 0.9974 - val_loss: 0.0130 - val_accuracy: 0.9957\n",
            "Epoch 76/200\n",
            "45/45 [==============================] - 0s 6ms/step - loss: 0.0106 - accuracy: 0.9974 - val_loss: 0.0126 - val_accuracy: 0.9962\n",
            "Epoch 77/200\n",
            "45/45 [==============================] - 0s 5ms/step - loss: 0.0102 - accuracy: 0.9977 - val_loss: 0.0120 - val_accuracy: 0.9969\n",
            "Epoch 78/200\n",
            "45/45 [==============================] - 0s 4ms/step - loss: 0.0101 - accuracy: 0.9977 - val_loss: 0.0120 - val_accuracy: 0.9957\n",
            "Epoch 79/200\n",
            "45/45 [==============================] - 0s 4ms/step - loss: 0.0099 - accuracy: 0.9977 - val_loss: 0.0118 - val_accuracy: 0.9968\n",
            "Epoch 80/200\n",
            "45/45 [==============================] - 0s 4ms/step - loss: 0.0102 - accuracy: 0.9973 - val_loss: 0.0118 - val_accuracy: 0.9958\n",
            "Epoch 81/200\n",
            "45/45 [==============================] - 0s 4ms/step - loss: 0.0099 - accuracy: 0.9977 - val_loss: 0.0124 - val_accuracy: 0.9957\n",
            "Epoch 82/200\n",
            "45/45 [==============================] - 0s 4ms/step - loss: 0.0096 - accuracy: 0.9976 - val_loss: 0.0117 - val_accuracy: 0.9966\n",
            "Epoch 83/200\n",
            "45/45 [==============================] - 0s 4ms/step - loss: 0.0096 - accuracy: 0.9979 - val_loss: 0.0119 - val_accuracy: 0.9960\n",
            "Epoch 84/200\n",
            "45/45 [==============================] - 0s 4ms/step - loss: 0.0095 - accuracy: 0.9978 - val_loss: 0.0112 - val_accuracy: 0.9968\n",
            "Epoch 85/200\n",
            "45/45 [==============================] - 0s 4ms/step - loss: 0.0092 - accuracy: 0.9983 - val_loss: 0.0112 - val_accuracy: 0.9969\n",
            "Epoch 86/200\n",
            "45/45 [==============================] - 0s 4ms/step - loss: 0.0094 - accuracy: 0.9977 - val_loss: 0.0114 - val_accuracy: 0.9962\n",
            "Epoch 87/200\n",
            "45/45 [==============================] - 0s 5ms/step - loss: 0.0095 - accuracy: 0.9978 - val_loss: 0.0119 - val_accuracy: 0.9958\n",
            "Epoch 88/200\n",
            "45/45 [==============================] - 0s 4ms/step - loss: 0.0094 - accuracy: 0.9981 - val_loss: 0.0112 - val_accuracy: 0.9962\n",
            "Epoch 89/200\n",
            "45/45 [==============================] - 0s 5ms/step - loss: 0.0090 - accuracy: 0.9980 - val_loss: 0.0110 - val_accuracy: 0.9968\n",
            "Epoch 90/200\n",
            "45/45 [==============================] - 0s 4ms/step - loss: 0.0089 - accuracy: 0.9979 - val_loss: 0.0111 - val_accuracy: 0.9966\n",
            "Epoch 91/200\n",
            "45/45 [==============================] - 0s 4ms/step - loss: 0.0091 - accuracy: 0.9979 - val_loss: 0.0111 - val_accuracy: 0.9962\n",
            "Epoch 92/200\n",
            "45/45 [==============================] - 0s 4ms/step - loss: 0.0091 - accuracy: 0.9977 - val_loss: 0.0107 - val_accuracy: 0.9968\n",
            "Epoch 93/200\n",
            "45/45 [==============================] - 0s 4ms/step - loss: 0.0086 - accuracy: 0.9978 - val_loss: 0.0106 - val_accuracy: 0.9969\n",
            "Epoch 94/200\n",
            "45/45 [==============================] - 0s 5ms/step - loss: 0.0090 - accuracy: 0.9979 - val_loss: 0.0113 - val_accuracy: 0.9960\n",
            "Epoch 95/200\n",
            "45/45 [==============================] - 0s 5ms/step - loss: 0.0085 - accuracy: 0.9984 - val_loss: 0.0106 - val_accuracy: 0.9969\n",
            "Epoch 96/200\n",
            "45/45 [==============================] - 0s 4ms/step - loss: 0.0086 - accuracy: 0.9982 - val_loss: 0.0108 - val_accuracy: 0.9958\n",
            "Epoch 97/200\n",
            "45/45 [==============================] - 0s 4ms/step - loss: 0.0086 - accuracy: 0.9980 - val_loss: 0.0117 - val_accuracy: 0.9960\n",
            "Epoch 98/200\n",
            "45/45 [==============================] - 0s 4ms/step - loss: 0.0088 - accuracy: 0.9979 - val_loss: 0.0104 - val_accuracy: 0.9971\n",
            "Epoch 99/200\n",
            "45/45 [==============================] - 0s 4ms/step - loss: 0.0082 - accuracy: 0.9979 - val_loss: 0.0103 - val_accuracy: 0.9966\n",
            "Epoch 100/200\n",
            "45/45 [==============================] - 0s 4ms/step - loss: 0.0082 - accuracy: 0.9983 - val_loss: 0.0101 - val_accuracy: 0.9966\n",
            "Epoch 101/200\n",
            "45/45 [==============================] - 0s 4ms/step - loss: 0.0083 - accuracy: 0.9983 - val_loss: 0.0100 - val_accuracy: 0.9973\n",
            "Epoch 102/200\n",
            "45/45 [==============================] - 0s 4ms/step - loss: 0.0084 - accuracy: 0.9976 - val_loss: 0.0100 - val_accuracy: 0.9966\n",
            "Epoch 103/200\n",
            "45/45 [==============================] - 0s 4ms/step - loss: 0.0086 - accuracy: 0.9975 - val_loss: 0.0105 - val_accuracy: 0.9964\n",
            "Epoch 104/200\n",
            "45/45 [==============================] - 0s 5ms/step - loss: 0.0083 - accuracy: 0.9978 - val_loss: 0.0101 - val_accuracy: 0.9968\n",
            "Epoch 105/200\n",
            "45/45 [==============================] - 0s 5ms/step - loss: 0.0082 - accuracy: 0.9979 - val_loss: 0.0102 - val_accuracy: 0.9969\n",
            "Epoch 106/200\n",
            "45/45 [==============================] - 0s 5ms/step - loss: 0.0084 - accuracy: 0.9975 - val_loss: 0.0103 - val_accuracy: 0.9966\n",
            "Epoch 107/200\n",
            "45/45 [==============================] - 0s 4ms/step - loss: 0.0080 - accuracy: 0.9982 - val_loss: 0.0104 - val_accuracy: 0.9962\n",
            "Epoch 108/200\n",
            "45/45 [==============================] - 0s 5ms/step - loss: 0.0077 - accuracy: 0.9983 - val_loss: 0.0105 - val_accuracy: 0.9964\n",
            "Epoch 109/200\n",
            "45/45 [==============================] - 0s 4ms/step - loss: 0.0077 - accuracy: 0.9982 - val_loss: 0.0101 - val_accuracy: 0.9964\n",
            "Epoch 110/200\n",
            "45/45 [==============================] - 0s 4ms/step - loss: 0.0078 - accuracy: 0.9982 - val_loss: 0.0097 - val_accuracy: 0.9973\n",
            "Epoch 111/200\n",
            "45/45 [==============================] - 0s 4ms/step - loss: 0.0077 - accuracy: 0.9983 - val_loss: 0.0094 - val_accuracy: 0.9971\n",
            "Epoch 112/200\n",
            "45/45 [==============================] - 0s 4ms/step - loss: 0.0075 - accuracy: 0.9982 - val_loss: 0.0104 - val_accuracy: 0.9964\n",
            "Epoch 113/200\n",
            "45/45 [==============================] - 0s 4ms/step - loss: 0.0079 - accuracy: 0.9977 - val_loss: 0.0098 - val_accuracy: 0.9969\n",
            "Epoch 114/200\n",
            "45/45 [==============================] - 0s 4ms/step - loss: 0.0077 - accuracy: 0.9984 - val_loss: 0.0097 - val_accuracy: 0.9966\n",
            "Epoch 115/200\n",
            "45/45 [==============================] - 0s 5ms/step - loss: 0.0076 - accuracy: 0.9982 - val_loss: 0.0105 - val_accuracy: 0.9964\n",
            "Epoch 116/200\n",
            "45/45 [==============================] - 0s 5ms/step - loss: 0.0076 - accuracy: 0.9981 - val_loss: 0.0097 - val_accuracy: 0.9969\n",
            "Epoch 117/200\n",
            "45/45 [==============================] - 0s 4ms/step - loss: 0.0074 - accuracy: 0.9982 - val_loss: 0.0100 - val_accuracy: 0.9960\n",
            "Epoch 118/200\n",
            "45/45 [==============================] - 0s 5ms/step - loss: 0.0076 - accuracy: 0.9980 - val_loss: 0.0097 - val_accuracy: 0.9966\n",
            "Epoch 119/200\n",
            "45/45 [==============================] - 0s 4ms/step - loss: 0.0073 - accuracy: 0.9984 - val_loss: 0.0093 - val_accuracy: 0.9968\n",
            "Epoch 120/200\n",
            "45/45 [==============================] - 0s 4ms/step - loss: 0.0073 - accuracy: 0.9986 - val_loss: 0.0098 - val_accuracy: 0.9968\n",
            "Epoch 121/200\n",
            "45/45 [==============================] - 0s 4ms/step - loss: 0.0075 - accuracy: 0.9980 - val_loss: 0.0094 - val_accuracy: 0.9969\n",
            "Epoch 122/200\n",
            "45/45 [==============================] - 0s 4ms/step - loss: 0.0071 - accuracy: 0.9984 - val_loss: 0.0093 - val_accuracy: 0.9968\n",
            "Epoch 123/200\n",
            "45/45 [==============================] - 0s 11ms/step - loss: 0.0072 - accuracy: 0.9982 - val_loss: 0.0091 - val_accuracy: 0.9969\n",
            "Epoch 124/200\n",
            "45/45 [==============================] - 1s 18ms/step - loss: 0.0072 - accuracy: 0.9982 - val_loss: 0.0094 - val_accuracy: 0.9968\n",
            "Epoch 125/200\n",
            "45/45 [==============================] - 0s 7ms/step - loss: 0.0069 - accuracy: 0.9986 - val_loss: 0.0091 - val_accuracy: 0.9968\n",
            "Epoch 126/200\n",
            "45/45 [==============================] - 0s 6ms/step - loss: 0.0068 - accuracy: 0.9985 - val_loss: 0.0089 - val_accuracy: 0.9968\n",
            "Epoch 127/200\n",
            "45/45 [==============================] - 0s 6ms/step - loss: 0.0070 - accuracy: 0.9984 - val_loss: 0.0088 - val_accuracy: 0.9971\n",
            "Epoch 128/200\n",
            "45/45 [==============================] - 0s 7ms/step - loss: 0.0072 - accuracy: 0.9984 - val_loss: 0.0089 - val_accuracy: 0.9969\n",
            "Epoch 129/200\n",
            "45/45 [==============================] - 0s 7ms/step - loss: 0.0071 - accuracy: 0.9982 - val_loss: 0.0090 - val_accuracy: 0.9966\n",
            "Epoch 130/200\n",
            "45/45 [==============================] - 0s 7ms/step - loss: 0.0066 - accuracy: 0.9986 - val_loss: 0.0090 - val_accuracy: 0.9968\n",
            "Epoch 131/200\n",
            "45/45 [==============================] - 0s 6ms/step - loss: 0.0069 - accuracy: 0.9983 - val_loss: 0.0088 - val_accuracy: 0.9968\n",
            "Epoch 132/200\n",
            "45/45 [==============================] - 0s 6ms/step - loss: 0.0068 - accuracy: 0.9987 - val_loss: 0.0091 - val_accuracy: 0.9975\n",
            "Epoch 133/200\n",
            "45/45 [==============================] - 0s 5ms/step - loss: 0.0067 - accuracy: 0.9985 - val_loss: 0.0087 - val_accuracy: 0.9968\n",
            "Epoch 134/200\n",
            "45/45 [==============================] - 0s 4ms/step - loss: 0.0069 - accuracy: 0.9984 - val_loss: 0.0089 - val_accuracy: 0.9966\n",
            "Epoch 135/200\n",
            "45/45 [==============================] - 0s 4ms/step - loss: 0.0063 - accuracy: 0.9988 - val_loss: 0.0089 - val_accuracy: 0.9973\n",
            "Epoch 136/200\n",
            "45/45 [==============================] - 0s 4ms/step - loss: 0.0066 - accuracy: 0.9986 - val_loss: 0.0086 - val_accuracy: 0.9973\n",
            "Epoch 137/200\n",
            "45/45 [==============================] - 0s 4ms/step - loss: 0.0068 - accuracy: 0.9981 - val_loss: 0.0095 - val_accuracy: 0.9964\n",
            "Epoch 138/200\n",
            "45/45 [==============================] - 0s 4ms/step - loss: 0.0068 - accuracy: 0.9979 - val_loss: 0.0086 - val_accuracy: 0.9969\n",
            "Epoch 139/200\n",
            "45/45 [==============================] - 0s 4ms/step - loss: 0.0066 - accuracy: 0.9983 - val_loss: 0.0089 - val_accuracy: 0.9968\n",
            "Epoch 140/200\n",
            "45/45 [==============================] - 0s 4ms/step - loss: 0.0064 - accuracy: 0.9984 - val_loss: 0.0082 - val_accuracy: 0.9975\n",
            "Epoch 141/200\n",
            "45/45 [==============================] - 0s 4ms/step - loss: 0.0064 - accuracy: 0.9986 - val_loss: 0.0088 - val_accuracy: 0.9968\n",
            "Epoch 142/200\n",
            "45/45 [==============================] - 0s 5ms/step - loss: 0.0065 - accuracy: 0.9982 - val_loss: 0.0082 - val_accuracy: 0.9971\n",
            "Epoch 143/200\n",
            "45/45 [==============================] - 0s 4ms/step - loss: 0.0071 - accuracy: 0.9979 - val_loss: 0.0117 - val_accuracy: 0.9949\n",
            "Epoch 144/200\n",
            "45/45 [==============================] - 0s 4ms/step - loss: 0.0066 - accuracy: 0.9982 - val_loss: 0.0093 - val_accuracy: 0.9962\n",
            "Epoch 145/200\n",
            "45/45 [==============================] - 0s 4ms/step - loss: 0.0060 - accuracy: 0.9987 - val_loss: 0.0084 - val_accuracy: 0.9969\n",
            "Epoch 146/200\n",
            "45/45 [==============================] - 0s 4ms/step - loss: 0.0061 - accuracy: 0.9991 - val_loss: 0.0083 - val_accuracy: 0.9969\n",
            "Epoch 147/200\n",
            "45/45 [==============================] - 0s 4ms/step - loss: 0.0059 - accuracy: 0.9990 - val_loss: 0.0080 - val_accuracy: 0.9975\n",
            "Epoch 148/200\n",
            "45/45 [==============================] - 0s 4ms/step - loss: 0.0060 - accuracy: 0.9988 - val_loss: 0.0081 - val_accuracy: 0.9973\n",
            "Epoch 149/200\n",
            "45/45 [==============================] - 0s 4ms/step - loss: 0.0059 - accuracy: 0.9989 - val_loss: 0.0083 - val_accuracy: 0.9966\n",
            "Epoch 150/200\n",
            "45/45 [==============================] - 0s 4ms/step - loss: 0.0059 - accuracy: 0.9989 - val_loss: 0.0088 - val_accuracy: 0.9969\n",
            "Epoch 151/200\n",
            "45/45 [==============================] - 0s 4ms/step - loss: 0.0059 - accuracy: 0.9988 - val_loss: 0.0081 - val_accuracy: 0.9973\n",
            "Epoch 152/200\n",
            "45/45 [==============================] - 0s 4ms/step - loss: 0.0060 - accuracy: 0.9986 - val_loss: 0.0085 - val_accuracy: 0.9971\n",
            "Epoch 153/200\n",
            "45/45 [==============================] - 0s 4ms/step - loss: 0.0058 - accuracy: 0.9987 - val_loss: 0.0079 - val_accuracy: 0.9969\n",
            "Epoch 154/200\n",
            "45/45 [==============================] - 0s 4ms/step - loss: 0.0057 - accuracy: 0.9989 - val_loss: 0.0077 - val_accuracy: 0.9975\n",
            "Epoch 155/200\n",
            "45/45 [==============================] - 0s 4ms/step - loss: 0.0058 - accuracy: 0.9989 - val_loss: 0.0077 - val_accuracy: 0.9977\n",
            "Epoch 156/200\n",
            "45/45 [==============================] - 0s 4ms/step - loss: 0.0057 - accuracy: 0.9988 - val_loss: 0.0077 - val_accuracy: 0.9973\n",
            "Epoch 157/200\n",
            "45/45 [==============================] - 0s 4ms/step - loss: 0.0059 - accuracy: 0.9987 - val_loss: 0.0083 - val_accuracy: 0.9977\n",
            "Epoch 158/200\n",
            "45/45 [==============================] - 0s 5ms/step - loss: 0.0059 - accuracy: 0.9990 - val_loss: 0.0090 - val_accuracy: 0.9964\n",
            "Epoch 159/200\n",
            "45/45 [==============================] - 0s 4ms/step - loss: 0.0061 - accuracy: 0.9986 - val_loss: 0.0080 - val_accuracy: 0.9964\n",
            "Epoch 160/200\n",
            "45/45 [==============================] - 0s 4ms/step - loss: 0.0056 - accuracy: 0.9988 - val_loss: 0.0076 - val_accuracy: 0.9975\n",
            "Epoch 161/200\n",
            "45/45 [==============================] - 0s 4ms/step - loss: 0.0057 - accuracy: 0.9988 - val_loss: 0.0075 - val_accuracy: 0.9975\n",
            "Epoch 162/200\n",
            "45/45 [==============================] - 0s 4ms/step - loss: 0.0055 - accuracy: 0.9989 - val_loss: 0.0077 - val_accuracy: 0.9969\n",
            "Epoch 163/200\n",
            "45/45 [==============================] - 0s 5ms/step - loss: 0.0056 - accuracy: 0.9989 - val_loss: 0.0085 - val_accuracy: 0.9964\n",
            "Epoch 164/200\n",
            "45/45 [==============================] - 0s 4ms/step - loss: 0.0055 - accuracy: 0.9986 - val_loss: 0.0077 - val_accuracy: 0.9969\n",
            "Epoch 165/200\n",
            "45/45 [==============================] - 0s 4ms/step - loss: 0.0054 - accuracy: 0.9989 - val_loss: 0.0080 - val_accuracy: 0.9975\n",
            "Epoch 166/200\n",
            "45/45 [==============================] - 0s 4ms/step - loss: 0.0053 - accuracy: 0.9991 - val_loss: 0.0074 - val_accuracy: 0.9978\n",
            "Epoch 167/200\n",
            "45/45 [==============================] - 0s 4ms/step - loss: 0.0055 - accuracy: 0.9986 - val_loss: 0.0080 - val_accuracy: 0.9978\n",
            "Epoch 168/200\n",
            "45/45 [==============================] - 0s 4ms/step - loss: 0.0053 - accuracy: 0.9990 - val_loss: 0.0074 - val_accuracy: 0.9973\n",
            "Epoch 169/200\n",
            "45/45 [==============================] - 0s 4ms/step - loss: 0.0053 - accuracy: 0.9991 - val_loss: 0.0076 - val_accuracy: 0.9977\n",
            "Epoch 170/200\n",
            "45/45 [==============================] - 0s 5ms/step - loss: 0.0054 - accuracy: 0.9990 - val_loss: 0.0072 - val_accuracy: 0.9977\n",
            "Epoch 171/200\n",
            "45/45 [==============================] - 0s 4ms/step - loss: 0.0052 - accuracy: 0.9991 - val_loss: 0.0079 - val_accuracy: 0.9973\n",
            "Epoch 172/200\n",
            "45/45 [==============================] - 0s 5ms/step - loss: 0.0053 - accuracy: 0.9988 - val_loss: 0.0074 - val_accuracy: 0.9971\n",
            "Epoch 173/200\n",
            "45/45 [==============================] - 0s 4ms/step - loss: 0.0053 - accuracy: 0.9989 - val_loss: 0.0075 - val_accuracy: 0.9969\n",
            "Epoch 174/200\n",
            "45/45 [==============================] - 0s 4ms/step - loss: 0.0051 - accuracy: 0.9992 - val_loss: 0.0071 - val_accuracy: 0.9973\n",
            "Epoch 175/200\n",
            "45/45 [==============================] - 0s 4ms/step - loss: 0.0055 - accuracy: 0.9986 - val_loss: 0.0075 - val_accuracy: 0.9971\n",
            "Epoch 176/200\n",
            "45/45 [==============================] - 0s 4ms/step - loss: 0.0056 - accuracy: 0.9985 - val_loss: 0.0077 - val_accuracy: 0.9969\n",
            "Epoch 177/200\n",
            "45/45 [==============================] - 0s 4ms/step - loss: 0.0052 - accuracy: 0.9987 - val_loss: 0.0077 - val_accuracy: 0.9968\n",
            "Epoch 178/200\n",
            "45/45 [==============================] - 0s 4ms/step - loss: 0.0050 - accuracy: 0.9988 - val_loss: 0.0073 - val_accuracy: 0.9973\n",
            "Epoch 179/200\n",
            "45/45 [==============================] - 0s 4ms/step - loss: 0.0052 - accuracy: 0.9988 - val_loss: 0.0072 - val_accuracy: 0.9973\n",
            "Epoch 180/200\n",
            "45/45 [==============================] - 0s 5ms/step - loss: 0.0051 - accuracy: 0.9986 - val_loss: 0.0079 - val_accuracy: 0.9973\n",
            "Epoch 181/200\n",
            "45/45 [==============================] - 0s 4ms/step - loss: 0.0049 - accuracy: 0.9990 - val_loss: 0.0071 - val_accuracy: 0.9978\n",
            "Epoch 182/200\n",
            "45/45 [==============================] - 0s 5ms/step - loss: 0.0049 - accuracy: 0.9991 - val_loss: 0.0070 - val_accuracy: 0.9975\n",
            "Epoch 183/200\n",
            "45/45 [==============================] - 0s 4ms/step - loss: 0.0051 - accuracy: 0.9989 - val_loss: 0.0079 - val_accuracy: 0.9969\n",
            "Epoch 184/200\n",
            "45/45 [==============================] - 0s 4ms/step - loss: 0.0053 - accuracy: 0.9985 - val_loss: 0.0074 - val_accuracy: 0.9969\n",
            "Epoch 185/200\n",
            "45/45 [==============================] - 0s 4ms/step - loss: 0.0050 - accuracy: 0.9988 - val_loss: 0.0074 - val_accuracy: 0.9971\n",
            "Epoch 186/200\n",
            "45/45 [==============================] - 0s 7ms/step - loss: 0.0049 - accuracy: 0.9990 - val_loss: 0.0072 - val_accuracy: 0.9971\n",
            "Epoch 187/200\n",
            "45/45 [==============================] - 0s 7ms/step - loss: 0.0049 - accuracy: 0.9989 - val_loss: 0.0068 - val_accuracy: 0.9977\n",
            "Epoch 188/200\n",
            "45/45 [==============================] - 0s 6ms/step - loss: 0.0052 - accuracy: 0.9991 - val_loss: 0.0077 - val_accuracy: 0.9968\n",
            "Epoch 189/200\n",
            "45/45 [==============================] - 0s 6ms/step - loss: 0.0049 - accuracy: 0.9989 - val_loss: 0.0073 - val_accuracy: 0.9973\n",
            "Epoch 190/200\n",
            "45/45 [==============================] - 0s 6ms/step - loss: 0.0052 - accuracy: 0.9987 - val_loss: 0.0071 - val_accuracy: 0.9975\n",
            "Epoch 191/200\n",
            "45/45 [==============================] - 0s 6ms/step - loss: 0.0049 - accuracy: 0.9989 - val_loss: 0.0074 - val_accuracy: 0.9973\n",
            "Epoch 192/200\n",
            "45/45 [==============================] - 0s 6ms/step - loss: 0.0047 - accuracy: 0.9991 - val_loss: 0.0068 - val_accuracy: 0.9977\n",
            "Epoch 193/200\n",
            "45/45 [==============================] - 0s 7ms/step - loss: 0.0046 - accuracy: 0.9991 - val_loss: 0.0067 - val_accuracy: 0.9977\n",
            "Epoch 194/200\n",
            "45/45 [==============================] - 0s 7ms/step - loss: 0.0047 - accuracy: 0.9991 - val_loss: 0.0067 - val_accuracy: 0.9975\n",
            "Epoch 195/200\n",
            "45/45 [==============================] - 0s 6ms/step - loss: 0.0047 - accuracy: 0.9992 - val_loss: 0.0068 - val_accuracy: 0.9977\n",
            "Epoch 196/200\n",
            "45/45 [==============================] - 0s 4ms/step - loss: 0.0046 - accuracy: 0.9990 - val_loss: 0.0085 - val_accuracy: 0.9964\n",
            "Epoch 197/200\n",
            "45/45 [==============================] - 0s 4ms/step - loss: 0.0048 - accuracy: 0.9991 - val_loss: 0.0065 - val_accuracy: 0.9977\n",
            "Epoch 198/200\n",
            "45/45 [==============================] - 0s 4ms/step - loss: 0.0047 - accuracy: 0.9988 - val_loss: 0.0068 - val_accuracy: 0.9975\n",
            "Epoch 199/200\n",
            "45/45 [==============================] - 0s 5ms/step - loss: 0.0045 - accuracy: 0.9993 - val_loss: 0.0070 - val_accuracy: 0.9975\n",
            "Epoch 200/200\n",
            "45/45 [==============================] - 0s 4ms/step - loss: 0.0045 - accuracy: 0.9990 - val_loss: 0.0066 - val_accuracy: 0.9978\n"
          ]
        },
        {
          "output_type": "execute_result",
          "data": {
            "text/plain": [
              "<keras.callbacks.History at 0x7f819c4dccd0>"
            ]
          },
          "metadata": {},
          "execution_count": 107
        }
      ]
    },
    {
      "cell_type": "code",
      "source": [
        "loss = pd.DataFrame(ann.history.history)\n",
        "plt.figure(figsize=(12,12))\n",
        "sns.lineplot(data=loss,lw=3)\n",
        "sns.despine()"
      ],
      "metadata": {
        "colab": {
          "base_uri": "https://localhost:8080/",
          "height": 700
        },
        "id": "2Rg84Geri2da",
        "outputId": "886efdc3-aa93-43d0-9735-5fca2ced780a"
      },
      "execution_count": 108,
      "outputs": [
        {
          "output_type": "display_data",
          "data": {
            "text/plain": [
              "<Figure size 864x864 with 1 Axes>"
            ],
            "image/png": "[encoded data removed]"
          },
          "metadata": {
            "needs_background": "light"
          }
        }
      ]
    },
    {
      "cell_type": "code",
      "source": [
        "accuracy = ann.history.history['accuracy']\n",
        "val_accuracy = ann.history.history['val_accuracy']\n",
        "loss = ann.history.history['loss']\n",
        "val_loss = ann.history.history['val_loss']\n",
        "epochs = range(len(accuracy))\n",
        "plt.plot(epochs, accuracy, 'r', label='Precision de entrenamiento')\n",
        "plt.plot(epochs, val_accuracy, 'b', label='Exactitud de la validacion')\n",
        "plt.title('Precisión de entrenamiento y validación')\n",
        "plt.legend()\n",
        "plt.figure()\n",
        "plt.plot(epochs, loss, 'r', label='Perdida de entrenamiento')\n",
        "plt.plot(epochs, val_loss, 'b', label='Perdida de validacion')\n",
        "plt.title('Perdida de entrenamiento y validacion')\n",
        "plt.legend()\n",
        "plt.show()"
      ],
      "metadata": {
        "colab": {
          "base_uri": "https://localhost:8080/",
          "height": 545
        },
        "id": "ZI7tEm0SAP-e",
        "outputId": "4e9da4b5-31a8-4228-fec5-9eba0420b210"
      },
      "execution_count": 109,
      "outputs": [
        {
          "output_type": "display_data",
          "data": {
            "text/plain": [
              "<Figure size 432x288 with 1 Axes>"
            ],
            "image/png": "[encoded data removed]"
          },
          "metadata": {
            "needs_background": "light"
          }
        },
        {
          "output_type": "display_data",
          "data": {
            "text/plain": [
              "<Figure size 432x288 with 1 Axes>"
            ],
            "image/png": "[encoded data removed]"
          },
          "metadata": {
            "needs_background": "light"
          }
        }
      ]
    },
    {
      "cell_type": "code",
      "source": [
        "y_pred_train = ann.predict(X_train)\n",
        "y_pred_test = ann.predict(X_test)"
      ],
      "metadata": {
        "colab": {
          "base_uri": "https://localhost:8080/"
        },
        "id": "keQj-hsAcaAl",
        "outputId": "f86f817f-9489-4ac2-aedd-7e3c0a74d5ae"
      },
      "execution_count": 110,
      "outputs": [
        {
          "output_type": "stream",
          "name": "stdout",
          "text": [
            "693/693 [==============================] - 3s 4ms/step\n",
            "174/174 [==============================] - 0s 1ms/step\n"
          ]
        }
      ]
    },
    {
      "cell_type": "code",
      "source": [
        "y_pred_train\n",
        "y_pred_test"
      ],
      "metadata": {
        "colab": {
          "base_uri": "https://localhost:8080/"
        },
        "id": "kBMSwia1Jl2D",
        "outputId": "810391b1-2677-48a4-a9f6-0c6150bd7def"
      },
      "execution_count": 111,
      "outputs": [
        {
          "output_type": "execute_result",
          "data": {
            "text/plain": [
              "array([[0.0000000e+00, 5.8569895e-29, 9.9999994e-01, 6.4954455e-30],\n",
              "       [2.0039412e-19, 9.9999994e-01, 1.2689071e-10, 1.2724032e-08],\n",
              "       [9.3326357e-28, 7.3284056e-08, 9.9999982e-01, 1.9127073e-18],\n",
              "       ...,\n",
              "       [8.5431963e-20, 1.0000000e+00, 2.1344771e-13, 6.7975916e-12],\n",
              "       [1.4121777e-11, 1.0000000e+00, 4.0893924e-10, 1.7803139e-08],\n",
              "       [3.5713461e-16, 9.9999392e-01, 7.3286169e-11, 6.0808693e-06]],\n",
              "      dtype=float32)"
            ]
          },
          "metadata": {},
          "execution_count": 111
        }
      ]
    },
    {
      "cell_type": "code",
      "source": [
        "y_test_bin = label_binarize(y_test, classes=[0, 1, 2, 3])\n",
        "\n",
        "fpr = dict()\n",
        "tpr = dict()\n",
        "roc_auc = dict()\n",
        "\n",
        "for i in range(4):\n",
        "    fpr[i], tpr[i], _ = roc_curve(y_test_bin[:, i], y_pred_test[:, i])\n",
        "    roc_auc[i] = auc(fpr[i], tpr[i])\n",
        "\n",
        "# Calcular el promedio de las curvas ROC\n",
        "fpr[\"micro\"], tpr[\"micro\"], _ = roc_curve(y_test_bin.ravel(), y_pred_test.ravel())\n",
        "roc_auc[\"micro\"] = auc(fpr[\"micro\"], tpr[\"micro\"])\n",
        "\n",
        "# Dibujar las curvas ROC\n",
        "plt.figure(figsize=(8,6))\n",
        "\n",
        "# Colores de las curvas ROC\n",
        "colors = cycle(['blue', 'red', 'green', 'yellow'])\n",
        "\n",
        "for i, color in zip(range(4), colors):\n",
        "    plt.plot(fpr[i], tpr[i], color=color, lw=2,\n",
        "             label='ROC curve of class {0} (area = {1:0.2f})'\n",
        "             ''.format(i, roc_auc[i]))\n",
        "\n",
        "plt.plot(fpr[\"micro\"], tpr[\"micro\"],\n",
        "         label='micro-average ROC curve (area = {0:0.2f})'\n",
        "         ''.format(roc_auc[\"micro\"]),\n",
        "         color='deeppink', linestyle=':', linewidth=4)\n",
        "\n",
        "plt.plot([0, 1], [0, 1], 'k--', lw=2)\n",
        "plt.xlim([0.0, 1.0])\n",
        "plt.ylim([0.0, 1.05])\n",
        "plt.xlabel('False Positive Rate')\n",
        "plt.ylabel('True Positive Rate')\n",
        "plt.title('Receiver Operating Characteristic (ROC) Curves')\n",
        "plt.legend(loc=\"lower right\")\n",
        "plt.show()"
      ],
      "metadata": {
        "colab": {
          "base_uri": "https://localhost:8080/",
          "height": 404
        },
        "id": "RwOqotdNDz7e",
        "outputId": "5cf8e609-caa4-462e-8223-33d5a5596247"
      },
      "execution_count": 112,
      "outputs": [
        {
          "output_type": "display_data",
          "data": {
            "text/plain": [
              "<Figure size 576x432 with 1 Axes>"
            ],
            "image/png": "[encoded data removed]"
          },
          "metadata": {
            "needs_background": "light"
          }
        }
      ]
    },
    {
      "cell_type": "code",
      "source": [
        "y_pred_test_a = y_pred_test\n",
        "y_pred_train_a = y_pred_train"
      ],
      "metadata": {
        "id": "GqCRDJqsImjA"
      },
      "execution_count": 113,
      "outputs": []
    },
    {
      "cell_type": "code",
      "source": [
        "for i in range(len(y_pred_test_a)):\n",
        "  index = list(y_pred_test_a[i]).index(max(y_pred_test_a[i]))\n",
        "  for j in range(len(y_pred_test_a[i])):\n",
        "    y_pred_test_a[i][j]=0\n",
        "  y_pred_test_a[i][index]=1\n",
        "\n",
        "for i in range(len(y_pred_train_a)):\n",
        "  index = list(y_pred_train_a[i]).index(max(y_pred_train_a[i]))\n",
        "  for j in range(len(y_pred_train_a[i])):\n",
        "    y_pred_train_a[i][j]=0\n",
        "  y_pred_train_a[i][index]=1"
      ],
      "metadata": {
        "id": "1vVKIf_Tcdrw"
      },
      "execution_count": 114,
      "outputs": []
    },
    {
      "cell_type": "code",
      "source": [
        "y_pred_train_a"
      ],
      "metadata": {
        "colab": {
          "base_uri": "https://localhost:8080/"
        },
        "id": "ffdmoIkQchhQ",
        "outputId": "0b6b6480-25ba-4aa0-eb27-bf2bd5ee2c33"
      },
      "execution_count": 115,
      "outputs": [
        {
          "output_type": "execute_result",
          "data": {
            "text/plain": [
              "array([[0., 0., 0., 1.],\n",
              "       [0., 0., 0., 1.],\n",
              "       [0., 0., 1., 0.],\n",
              "       ...,\n",
              "       [0., 0., 0., 1.],\n",
              "       [0., 1., 0., 0.],\n",
              "       [0., 0., 1., 0.]], dtype=float32)"
            ]
          },
          "metadata": {},
          "execution_count": 115
        }
      ]
    },
    {
      "cell_type": "code",
      "source": [
        "y_train"
      ],
      "metadata": {
        "colab": {
          "base_uri": "https://localhost:8080/",
          "height": 423
        },
        "id": "w-dgLW6Bcj26",
        "outputId": "8b0155e0-f3c3-43f4-f6c1-afd8cec226f9"
      },
      "execution_count": 116,
      "outputs": [
        {
          "output_type": "execute_result",
          "data": {
            "text/plain": [
              "       0  1  2  3\n",
              "1487   0  0  0  1\n",
              "10041  0  0  0  1\n",
              "19258  0  0  1  0\n",
              "17078  0  1  0  0\n",
              "5253   0  0  0  1\n",
              "...   .. .. .. ..\n",
              "19389  0  1  0  0\n",
              "3790   0  0  0  1\n",
              "8465   0  0  0  1\n",
              "12097  0  1  0  0\n",
              "17335  0  0  1  0\n",
              "\n",
              "[22164 rows x 4 columns]"
            ],
            "text/html": [
              "\n",
              "  <div id=\"df-a9533d9f-3e76-448f-88fb-69485567aa1f\">\n",
              "    <div class=\"colab-df-container\">\n",
              "      <div>\n",
              "<style scoped>\n",
              "    .dataframe tbody tr th:only-of-type {\n",
              "        vertical-align: middle;\n",
              "    }\n",
              "\n",
              "    .dataframe tbody tr th {\n",
              "        vertical-align: top;\n",
              "    }\n",
              "\n",
              "    .dataframe thead th {\n",
              "        text-align: right;\n",
              "    }\n",
              "</style>\n",
              "<table border=\"1\" class=\"dataframe\">\n",
              "  <thead>\n",
              "    <tr style=\"text-align: right;\">\n",
              "      <th></th>\n",
              "      <th>0</th>\n",
              "      <th>1</th>\n",
              "      <th>2</th>\n",
              "      <th>3</th>\n",
              "    </tr>\n",
              "  </thead>\n",
              "  <tbody>\n",
              "    <tr>\n",
              "      <th>1487</th>\n",
              "      <td>0</td>\n",
              "      <td>0</td>\n",
              "      <td>0</td>\n",
              "      <td>1</td>\n",
              "    </tr>\n",
              "    <tr>\n",
              "      <th>10041</th>\n",
              "      <td>0</td>\n",
              "      <td>0</td>\n",
              "      <td>0</td>\n",
              "      <td>1</td>\n",
              "    </tr>\n",
              "    <tr>\n",
              "      <th>19258</th>\n",
              "      <td>0</td>\n",
              "      <td>0</td>\n",
              "      <td>1</td>\n",
              "      <td>0</td>\n",
              "    </tr>\n",
              "    <tr>\n",
              "      <th>17078</th>\n",
              "      <td>0</td>\n",
              "      <td>1</td>\n",
              "      <td>0</td>\n",
              "      <td>0</td>\n",
              "    </tr>\n",
              "    <tr>\n",
              "      <th>5253</th>\n",
              "      <td>0</td>\n",
              "      <td>0</td>\n",
              "      <td>0</td>\n",
              "      <td>1</td>\n",
              "    </tr>\n",
              "    <tr>\n",
              "      <th>...</th>\n",
              "      <td>...</td>\n",
              "      <td>...</td>\n",
              "      <td>...</td>\n",
              "      <td>...</td>\n",
              "    </tr>\n",
              "    <tr>\n",
              "      <th>19389</th>\n",
              "      <td>0</td>\n",
              "      <td>1</td>\n",
              "      <td>0</td>\n",
              "      <td>0</td>\n",
              "    </tr>\n",
              "    <tr>\n",
              "      <th>3790</th>\n",
              "      <td>0</td>\n",
              "      <td>0</td>\n",
              "      <td>0</td>\n",
              "      <td>1</td>\n",
              "    </tr>\n",
              "    <tr>\n",
              "      <th>8465</th>\n",
              "      <td>0</td>\n",
              "      <td>0</td>\n",
              "      <td>0</td>\n",
              "      <td>1</td>\n",
              "    </tr>\n",
              "    <tr>\n",
              "      <th>12097</th>\n",
              "      <td>0</td>\n",
              "      <td>1</td>\n",
              "      <td>0</td>\n",
              "      <td>0</td>\n",
              "    </tr>\n",
              "    <tr>\n",
              "      <th>17335</th>\n",
              "      <td>0</td>\n",
              "      <td>0</td>\n",
              "      <td>1</td>\n",
              "      <td>0</td>\n",
              "    </tr>\n",
              "  </tbody>\n",
              "</table>\n",
              "<p>22164 rows × 4 columns</p>\n",
              "</div>\n",
              "      <button class=\"colab-df-convert\" onclick=\"convertToInteractive('df-a9533d9f-3e76-448f-88fb-69485567aa1f')\"\n",
              "              title=\"Convert this dataframe to an interactive table.\"\n",
              "              style=\"display:none;\">\n",
              "        \n",
              "  <svg xmlns=\"http://www.w3.org/2000/svg\" height=\"24px\"viewBox=\"0 0 24 24\"\n",
              "       width=\"24px\">\n",
              "    <path d=\"M0 0h24v24H0V0z\" fill=\"none\"/>\n",
              "    <path d=\"M18.56 5.44l.94 2.06.94-2.06 2.06-.94-2.06-.94-.94-2.06-.94 2.06-2.06.94zm-11 1L8.5 8.5l.94-2.06 2.06-.94-2.06-.94L8.5 2.5l-.94 2.06-2.06.94zm10 10l.94 2.06.94-2.06 2.06-.94-2.06-.94-.94-2.06-.94 2.06-2.06.94z\"/><path d=\"M17.41 7.96l-1.37-1.37c-.4-.4-.92-.59-1.43-.59-.52 0-1.04.2-1.43.59L10.3 9.45l-7.72 7.72c-.78.78-.78 2.05 0 2.83L4 21.41c.39.39.9.59 1.41.59.51 0 1.02-.2 1.41-.59l7.78-7.78 2.81-2.81c.8-.78.8-2.07 0-2.86zM5.41 20L4 18.59l7.72-7.72 1.47 1.35L5.41 20z\"/>\n",
              "  </svg>\n",
              "      </button>\n",
              "      \n",
              "  <style>\n",
              "    .colab-df-container {\n",
              "      display:flex;\n",
              "      flex-wrap:wrap;\n",
              "      gap: 12px;\n",
              "    }\n",
              "\n",
              "    .colab-df-convert {\n",
              "      background-color: #E8F0FE;\n",
              "      border: none;\n",
              "      border-radius: 50%;\n",
              "      cursor: pointer;\n",
              "      display: none;\n",
              "      fill: #1967D2;\n",
              "      height: 32px;\n",
              "      padding: 0 0 0 0;\n",
              "      width: 32px;\n",
              "    }\n",
              "\n",
              "    .colab-df-convert:hover {\n",
              "      background-color: #E2EBFA;\n",
              "      box-shadow: 0px 1px 2px rgba(60, 64, 67, 0.3), 0px 1px 3px 1px rgba(60, 64, 67, 0.15);\n",
              "      fill: #174EA6;\n",
              "    }\n",
              "\n",
              "    [theme=dark] .colab-df-convert {\n",
              "      background-color: #3B4455;\n",
              "      fill: #D2E3FC;\n",
              "    }\n",
              "\n",
              "    [theme=dark] .colab-df-convert:hover {\n",
              "      background-color: #434B5C;\n",
              "      box-shadow: 0px 1px 3px 1px rgba(0, 0, 0, 0.15);\n",
              "      filter: drop-shadow(0px 1px 2px rgba(0, 0, 0, 0.3));\n",
              "      fill: #FFFFFF;\n",
              "    }\n",
              "  </style>\n",
              "\n",
              "      <script>\n",
              "        const buttonEl =\n",
              "          document.querySelector('#df-a9533d9f-3e76-448f-88fb-69485567aa1f button.colab-df-convert');\n",
              "        buttonEl.style.display =\n",
              "          google.colab.kernel.accessAllowed ? 'block' : 'none';\n",
              "\n",
              "        async function convertToInteractive(key) {\n",
              "          const element = document.querySelector('#df-a9533d9f-3e76-448f-88fb-69485567aa1f');\n",
              "          const dataTable =\n",
              "            await google.colab.kernel.invokeFunction('convertToInteractive',\n",
              "                                                     [key], {});\n",
              "          if (!dataTable) return;\n",
              "\n",
              "          const docLinkHtml = 'Like what you see? Visit the ' +\n",
              "            '<a target=\"_blank\" href=https://colab.research.google.com/notebooks/data_table.ipynb>data table notebook</a>'\n",
              "            + ' to learn more about interactive tables.';\n",
              "          element.innerHTML = '';\n",
              "          dataTable['output_type'] = 'display_data';\n",
              "          await google.colab.output.renderOutput(dataTable, element);\n",
              "          const docLink = document.createElement('div');\n",
              "          docLink.innerHTML = docLinkHtml;\n",
              "          element.appendChild(docLink);\n",
              "        }\n",
              "      </script>\n",
              "    </div>\n",
              "  </div>\n",
              "  "
            ]
          },
          "metadata": {},
          "execution_count": 116
        }
      ]
    },
    {
      "cell_type": "code",
      "source": [
        "cm = accuracy_score(y_test, y_pred_test)\n",
        "print(cm)"
      ],
      "metadata": {
        "colab": {
          "base_uri": "https://localhost:8080/"
        },
        "id": "MqgYv1fTnBLl",
        "outputId": "d166b1a5-7dfc-48d4-8702-42f8a8fdbf25"
      },
      "execution_count": 117,
      "outputs": [
        {
          "output_type": "stream",
          "name": "stdout",
          "text": [
            "0.9978347167087694\n"
          ]
        }
      ]
    },
    {
      "cell_type": "code",
      "source": [
        "print(classification_report(y_train,y_pred_train))"
      ],
      "metadata": {
        "colab": {
          "base_uri": "https://localhost:8080/"
        },
        "id": "M8L8Ds4gcm0G",
        "outputId": "6f263b2c-03c4-4f49-b0b3-0163715c8004"
      },
      "execution_count": 118,
      "outputs": [
        {
          "output_type": "stream",
          "name": "stdout",
          "text": [
            "              precision    recall  f1-score   support\n",
            "\n",
            "           0       1.00      1.00      1.00      4382\n",
            "           1       1.00      1.00      1.00      8670\n",
            "           2       1.00      1.00      1.00      2987\n",
            "           3       1.00      1.00      1.00      6125\n",
            "\n",
            "   micro avg       1.00      1.00      1.00     22164\n",
            "   macro avg       1.00      1.00      1.00     22164\n",
            "weighted avg       1.00      1.00      1.00     22164\n",
            " samples avg       1.00      1.00      1.00     22164\n",
            "\n"
          ]
        }
      ]
    },
    {
      "cell_type": "code",
      "source": [
        "print(classification_report(y_test,y_pred_test))"
      ],
      "metadata": {
        "colab": {
          "base_uri": "https://localhost:8080/"
        },
        "id": "CcBMsoEqfrrW",
        "outputId": "cd858563-0bc4-4196-c575-1440d747feb3"
      },
      "execution_count": 119,
      "outputs": [
        {
          "output_type": "stream",
          "name": "stdout",
          "text": [
            "              precision    recall  f1-score   support\n",
            "\n",
            "           0       1.00      1.00      1.00      1128\n",
            "           1       1.00      1.00      1.00      2143\n",
            "           2       1.00      0.99      1.00       742\n",
            "           3       1.00      1.00      1.00      1529\n",
            "\n",
            "   micro avg       1.00      1.00      1.00      5542\n",
            "   macro avg       1.00      1.00      1.00      5542\n",
            "weighted avg       1.00      1.00      1.00      5542\n",
            " samples avg       1.00      1.00      1.00      5542\n",
            "\n"
          ]
        }
      ]
    },
    {
      "cell_type": "code",
      "source": [
        "score = ann.evaluate(X_test, y_test, verbose=1)\n",
        "print('accuracy: ',score[1])\n",
        "print('loss: ',score[0])"
      ],
      "metadata": {
        "colab": {
          "base_uri": "https://localhost:8080/"
        },
        "id": "J4HyY1l4kE4L",
        "outputId": "6233ac1b-3148-467a-c488-2aca3e5f671f"
      },
      "execution_count": 120,
      "outputs": [
        {
          "output_type": "stream",
          "name": "stdout",
          "text": [
            "174/174 [==============================] - 0s 2ms/step - loss: 0.0066 - accuracy: 0.9978\n",
            "accuracy:  0.9978347420692444\n",
            "loss:  0.006572377867996693\n"
          ]
        }
      ]
    },
    {
      "cell_type": "code",
      "source": [
        "matriz = multilabel_confusion_matrix(y_test, y_pred_test)"
      ],
      "metadata": {
        "id": "iavK7U1pLqUl"
      },
      "execution_count": 121,
      "outputs": []
    },
    {
      "cell_type": "code",
      "source": [
        "cmd = ConfusionMatrixDisplay(matriz[0], display_labels=np.unique(y_test)).plot()\n",
        "plt.title('Confusion Matrix for label 1')\n",
        "plt.show()\n",
        "cmd = ConfusionMatrixDisplay(matriz[1], display_labels=np.unique(y_test)).plot()\n",
        "plt.title('Confusion Matrix for label 2')\n",
        "plt.show()\n",
        "cmd = ConfusionMatrixDisplay(matriz[2], display_labels=np.unique(y_test)).plot()\n",
        "plt.title('Confusion Matrix for label 3')\n",
        "plt.show()\n",
        "cmd = ConfusionMatrixDisplay(matriz[3], display_labels=np.unique(y_test)).plot()\n",
        "plt.title('Confusion Matrix for label 4')\n",
        "plt.show()"
      ],
      "metadata": {
        "colab": {
          "base_uri": "https://localhost:8080/",
          "height": 1000
        },
        "id": "j2BejG5ALuvN",
        "outputId": "f38fd3ba-0ad5-4986-a7c3-a81495713717"
      },
      "execution_count": 122,
      "outputs": [
        {
          "output_type": "display_data",
          "data": {
            "text/plain": [
              "<Figure size 432x288 with 2 Axes>"
            ],
            "image/png": "[encoded data removed]"
          },
          "metadata": {
            "needs_background": "light"
          }
        },
        {
          "output_type": "display_data",
          "data": {
            "text/plain": [
              "<Figure size 432x288 with 2 Axes>"
            ],
            "image/png": "[encoded data removed]"
          },
          "metadata": {
            "needs_background": "light"
          }
        },
        {
          "output_type": "display_data",
          "data": {
            "text/plain": [
              "<Figure size 432x288 with 2 Axes>"
            ],
            "image/png": "[encoded data removed]"
          },
          "metadata": {
            "needs_background": "light"
          }
        },
        {
          "output_type": "display_data",
          "data": {
            "text/plain": [
              "<Figure size 432x288 with 2 Axes>"
            ],
            "image/png": "[encoded data removed]"
          },
          "metadata": {
            "needs_background": "light"
          }
        }
      ]
    },
    {
      "cell_type": "markdown",
      "source": [
        "#SVM"
      ],
      "metadata": {
        "id": "Nyo3K_4Vg-bg"
      }
    },
    {
      "cell_type": "code",
      "source": [
        "from mlxtend.evaluate import confusion_matrix as confusion_matrix2\n",
        "from sklearn.svm import SVC\n",
        "from sklearn.neighbors import KNeighborsClassifier"
      ],
      "metadata": {
        "id": "zjhMrof7fxZV"
      },
      "execution_count": 123,
      "outputs": []
    },
    {
      "cell_type": "code",
      "source": [
        "confusion_matrix2(y_train.to_numpy().argmax(axis=1),y_pred_train.argmax(axis=1),binary=True, \n",
        "                      positive_label=1)"
      ],
      "metadata": {
        "colab": {
          "base_uri": "https://localhost:8080/"
        },
        "id": "GxC56wVXfzgX",
        "outputId": "52372116-344c-419e-e0ca-b2a07ddf174a"
      },
      "execution_count": 124,
      "outputs": [
        {
          "output_type": "execute_result",
          "data": {
            "text/plain": [
              "array([[13483,    11],\n",
              "       [    0,  8670]])"
            ]
          },
          "metadata": {},
          "execution_count": 124
        }
      ]
    },
    {
      "cell_type": "code",
      "source": [
        "y_train"
      ],
      "metadata": {
        "colab": {
          "base_uri": "https://localhost:8080/",
          "height": 423
        },
        "id": "4WLRiHD9g7G6",
        "outputId": "baa657e9-01ee-46aa-fc09-13259698ec81"
      },
      "execution_count": 125,
      "outputs": [
        {
          "output_type": "execute_result",
          "data": {
            "text/plain": [
              "       0  1  2  3\n",
              "1487   0  0  0  1\n",
              "10041  0  0  0  1\n",
              "19258  0  0  1  0\n",
              "17078  0  1  0  0\n",
              "5253   0  0  0  1\n",
              "...   .. .. .. ..\n",
              "19389  0  1  0  0\n",
              "3790   0  0  0  1\n",
              "8465   0  0  0  1\n",
              "12097  0  1  0  0\n",
              "17335  0  0  1  0\n",
              "\n",
              "[22164 rows x 4 columns]"
            ],
            "text/html": [
              "\n",
              "  <div id=\"df-143c8d4b-7435-4c13-a366-a42c511266c1\">\n",
              "    <div class=\"colab-df-container\">\n",
              "      <div>\n",
              "<style scoped>\n",
              "    .dataframe tbody tr th:only-of-type {\n",
              "        vertical-align: middle;\n",
              "    }\n",
              "\n",
              "    .dataframe tbody tr th {\n",
              "        vertical-align: top;\n",
              "    }\n",
              "\n",
              "    .dataframe thead th {\n",
              "        text-align: right;\n",
              "    }\n",
              "</style>\n",
              "<table border=\"1\" class=\"dataframe\">\n",
              "  <thead>\n",
              "    <tr style=\"text-align: right;\">\n",
              "      <th></th>\n",
              "      <th>0</th>\n",
              "      <th>1</th>\n",
              "      <th>2</th>\n",
              "      <th>3</th>\n",
              "    </tr>\n",
              "  </thead>\n",
              "  <tbody>\n",
              "    <tr>\n",
              "      <th>1487</th>\n",
              "      <td>0</td>\n",
              "      <td>0</td>\n",
              "      <td>0</td>\n",
              "      <td>1</td>\n",
              "    </tr>\n",
              "    <tr>\n",
              "      <th>10041</th>\n",
              "      <td>0</td>\n",
              "      <td>0</td>\n",
              "      <td>0</td>\n",
              "      <td>1</td>\n",
              "    </tr>\n",
              "    <tr>\n",
              "      <th>19258</th>\n",
              "      <td>0</td>\n",
              "      <td>0</td>\n",
              "      <td>1</td>\n",
              "      <td>0</td>\n",
              "    </tr>\n",
              "    <tr>\n",
              "      <th>17078</th>\n",
              "      <td>0</td>\n",
              "      <td>1</td>\n",
              "      <td>0</td>\n",
              "      <td>0</td>\n",
              "    </tr>\n",
              "    <tr>\n",
              "      <th>5253</th>\n",
              "      <td>0</td>\n",
              "      <td>0</td>\n",
              "      <td>0</td>\n",
              "      <td>1</td>\n",
              "    </tr>\n",
              "    <tr>\n",
              "      <th>...</th>\n",
              "      <td>...</td>\n",
              "      <td>...</td>\n",
              "      <td>...</td>\n",
              "      <td>...</td>\n",
              "    </tr>\n",
              "    <tr>\n",
              "      <th>19389</th>\n",
              "      <td>0</td>\n",
              "      <td>1</td>\n",
              "      <td>0</td>\n",
              "      <td>0</td>\n",
              "    </tr>\n",
              "    <tr>\n",
              "      <th>3790</th>\n",
              "      <td>0</td>\n",
              "      <td>0</td>\n",
              "      <td>0</td>\n",
              "      <td>1</td>\n",
              "    </tr>\n",
              "    <tr>\n",
              "      <th>8465</th>\n",
              "      <td>0</td>\n",
              "      <td>0</td>\n",
              "      <td>0</td>\n",
              "      <td>1</td>\n",
              "    </tr>\n",
              "    <tr>\n",
              "      <th>12097</th>\n",
              "      <td>0</td>\n",
              "      <td>1</td>\n",
              "      <td>0</td>\n",
              "      <td>0</td>\n",
              "    </tr>\n",
              "    <tr>\n",
              "      <th>17335</th>\n",
              "      <td>0</td>\n",
              "      <td>0</td>\n",
              "      <td>1</td>\n",
              "      <td>0</td>\n",
              "    </tr>\n",
              "  </tbody>\n",
              "</table>\n",
              "<p>22164 rows × 4 columns</p>\n",
              "</div>\n",
              "      <button class=\"colab-df-convert\" onclick=\"convertToInteractive('df-143c8d4b-7435-4c13-a366-a42c511266c1')\"\n",
              "              title=\"Convert this dataframe to an interactive table.\"\n",
              "              style=\"display:none;\">\n",
              "        \n",
              "  <svg xmlns=\"http://www.w3.org/2000/svg\" height=\"24px\"viewBox=\"0 0 24 24\"\n",
              "       width=\"24px\">\n",
              "    <path d=\"M0 0h24v24H0V0z\" fill=\"none\"/>\n",
              "    <path d=\"M18.56 5.44l.94 2.06.94-2.06 2.06-.94-2.06-.94-.94-2.06-.94 2.06-2.06.94zm-11 1L8.5 8.5l.94-2.06 2.06-.94-2.06-.94L8.5 2.5l-.94 2.06-2.06.94zm10 10l.94 2.06.94-2.06 2.06-.94-2.06-.94-.94-2.06-.94 2.06-2.06.94z\"/><path d=\"M17.41 7.96l-1.37-1.37c-.4-.4-.92-.59-1.43-.59-.52 0-1.04.2-1.43.59L10.3 9.45l-7.72 7.72c-.78.78-.78 2.05 0 2.83L4 21.41c.39.39.9.59 1.41.59.51 0 1.02-.2 1.41-.59l7.78-7.78 2.81-2.81c.8-.78.8-2.07 0-2.86zM5.41 20L4 18.59l7.72-7.72 1.47 1.35L5.41 20z\"/>\n",
              "  </svg>\n",
              "      </button>\n",
              "      \n",
              "  <style>\n",
              "    .colab-df-container {\n",
              "      display:flex;\n",
              "      flex-wrap:wrap;\n",
              "      gap: 12px;\n",
              "    }\n",
              "\n",
              "    .colab-df-convert {\n",
              "      background-color: #E8F0FE;\n",
              "      border: none;\n",
              "      border-radius: 50%;\n",
              "      cursor: pointer;\n",
              "      display: none;\n",
              "      fill: #1967D2;\n",
              "      height: 32px;\n",
              "      padding: 0 0 0 0;\n",
              "      width: 32px;\n",
              "    }\n",
              "\n",
              "    .colab-df-convert:hover {\n",
              "      background-color: #E2EBFA;\n",
              "      box-shadow: 0px 1px 2px rgba(60, 64, 67, 0.3), 0px 1px 3px 1px rgba(60, 64, 67, 0.15);\n",
              "      fill: #174EA6;\n",
              "    }\n",
              "\n",
              "    [theme=dark] .colab-df-convert {\n",
              "      background-color: #3B4455;\n",
              "      fill: #D2E3FC;\n",
              "    }\n",
              "\n",
              "    [theme=dark] .colab-df-convert:hover {\n",
              "      background-color: #434B5C;\n",
              "      box-shadow: 0px 1px 3px 1px rgba(0, 0, 0, 0.15);\n",
              "      filter: drop-shadow(0px 1px 2px rgba(0, 0, 0, 0.3));\n",
              "      fill: #FFFFFF;\n",
              "    }\n",
              "  </style>\n",
              "\n",
              "      <script>\n",
              "        const buttonEl =\n",
              "          document.querySelector('#df-143c8d4b-7435-4c13-a366-a42c511266c1 button.colab-df-convert');\n",
              "        buttonEl.style.display =\n",
              "          google.colab.kernel.accessAllowed ? 'block' : 'none';\n",
              "\n",
              "        async function convertToInteractive(key) {\n",
              "          const element = document.querySelector('#df-143c8d4b-7435-4c13-a366-a42c511266c1');\n",
              "          const dataTable =\n",
              "            await google.colab.kernel.invokeFunction('convertToInteractive',\n",
              "                                                     [key], {});\n",
              "          if (!dataTable) return;\n",
              "\n",
              "          const docLinkHtml = 'Like what you see? Visit the ' +\n",
              "            '<a target=\"_blank\" href=https://colab.research.google.com/notebooks/data_table.ipynb>data table notebook</a>'\n",
              "            + ' to learn more about interactive tables.';\n",
              "          element.innerHTML = '';\n",
              "          dataTable['output_type'] = 'display_data';\n",
              "          await google.colab.output.renderOutput(dataTable, element);\n",
              "          const docLink = document.createElement('div');\n",
              "          docLink.innerHTML = docLinkHtml;\n",
              "          element.appendChild(docLink);\n",
              "        }\n",
              "      </script>\n",
              "    </div>\n",
              "  </div>\n",
              "  "
            ]
          },
          "metadata": {},
          "execution_count": 125
        }
      ]
    },
    {
      "cell_type": "code",
      "source": [
        "y_pred_train"
      ],
      "metadata": {
        "colab": {
          "base_uri": "https://localhost:8080/"
        },
        "id": "q8gGgPz_hCVm",
        "outputId": "54208452-5d18-4cd3-8cff-76040e9174b7"
      },
      "execution_count": 126,
      "outputs": [
        {
          "output_type": "execute_result",
          "data": {
            "text/plain": [
              "array([[0., 0., 0., 1.],\n",
              "       [0., 0., 0., 1.],\n",
              "       [0., 0., 1., 0.],\n",
              "       ...,\n",
              "       [0., 0., 0., 1.],\n",
              "       [0., 1., 0., 0.],\n",
              "       [0., 0., 1., 0.]], dtype=float32)"
            ]
          },
          "metadata": {},
          "execution_count": 126
        }
      ]
    },
    {
      "cell_type": "code",
      "source": [
        "print(X_train.shape)\n",
        "print(y_train.shape)\n",
        "print(X_test.shape)\n",
        "print(y_test.shape)"
      ],
      "metadata": {
        "colab": {
          "base_uri": "https://localhost:8080/"
        },
        "id": "dwnLFXAC4pWG",
        "outputId": "650e14ac-65e3-4af7-d736-194427451b5a"
      },
      "execution_count": 127,
      "outputs": [
        {
          "output_type": "stream",
          "name": "stdout",
          "text": [
            "(22164, 35)\n",
            "(22164, 4)\n",
            "(5542, 35)\n",
            "(5542, 4)\n"
          ]
        }
      ]
    },
    {
      "cell_type": "code",
      "source": [
        "svm = LinearSVC(random_state=500)\n",
        "multilabel_classifier = MultiOutputClassifier(svm, n_jobs=-1)\n",
        "multilabel_classifier = multilabel_classifier.fit(X_train, y_train)"
      ],
      "metadata": {
        "id": "UBOhGr2s25Zn"
      },
      "execution_count": 128,
      "outputs": []
    },
    {
      "cell_type": "code",
      "source": [
        "y_train_pred_svc = multilabel_classifier.predict(X_train)\n",
        "y_train_pred_svc"
      ],
      "metadata": {
        "colab": {
          "base_uri": "https://localhost:8080/"
        },
        "id": "J04o9eJ5KYxG",
        "outputId": "97bf4a52-213f-43ff-cf18-9f357cccc05a"
      },
      "execution_count": 129,
      "outputs": [
        {
          "output_type": "execute_result",
          "data": {
            "text/plain": [
              "array([[0, 0, 0, 1],\n",
              "       [0, 0, 0, 1],\n",
              "       [0, 0, 1, 0],\n",
              "       ...,\n",
              "       [0, 0, 0, 1],\n",
              "       [0, 1, 0, 0],\n",
              "       [0, 0, 1, 0]], dtype=uint8)"
            ]
          },
          "metadata": {},
          "execution_count": 129
        }
      ]
    },
    {
      "cell_type": "code",
      "source": [
        "y_test_pred_svc = multilabel_classifier.predict(X_test)\n",
        "y_test_pred_svc"
      ],
      "metadata": {
        "colab": {
          "base_uri": "https://localhost:8080/"
        },
        "id": "d2F70cFdIyVK",
        "outputId": "79b51095-f934-4346-9b2c-6d2e0c2c42d3"
      },
      "execution_count": 130,
      "outputs": [
        {
          "output_type": "execute_result",
          "data": {
            "text/plain": [
              "array([[0, 0, 1, 0],\n",
              "       [0, 1, 0, 0],\n",
              "       [0, 0, 1, 0],\n",
              "       ...,\n",
              "       [0, 1, 0, 0],\n",
              "       [0, 1, 0, 0],\n",
              "       [0, 1, 0, 0]], dtype=uint8)"
            ]
          },
          "metadata": {},
          "execution_count": 130
        }
      ]
    },
    {
      "cell_type": "code",
      "source": [
        "y_test_bin_svm = label_binarize(y_test, classes=[0, 1, 2, 3])\n",
        "\n",
        "fpr = dict()\n",
        "tpr = dict()\n",
        "roc_auc = dict()\n",
        "\n",
        "for i in range(4):\n",
        "    fpr[i], tpr[i], _ = roc_curve(y_test_bin_svm[:, i], y_test_pred_svc[:, i])\n",
        "    roc_auc[i] = auc(fpr[i], tpr[i])\n",
        "\n",
        "# Calcular el promedio de las curvas ROC\n",
        "fpr[\"micro\"], tpr[\"micro\"], _ = roc_curve(y_test_bin_svm.ravel(), y_test_pred_svc.ravel())\n",
        "roc_auc[\"micro\"] = auc(fpr[\"micro\"], tpr[\"micro\"])\n",
        "\n",
        "# Dibujar las curvas ROC\n",
        "plt.figure(figsize=(8,6))\n",
        "\n",
        "# Colores de las curvas ROC\n",
        "colors = cycle(['blue', 'red', 'green', 'yellow'])\n",
        "\n",
        "for i, color in zip(range(4), colors):\n",
        "    plt.plot(fpr[i], tpr[i], color=color, lw=2,\n",
        "             label='ROC curve of class {0} (area = {1:0.2f})'\n",
        "             ''.format(i, roc_auc[i]))\n",
        "\n",
        "plt.plot(fpr[\"micro\"], tpr[\"micro\"],\n",
        "         label='micro-average ROC curve (area = {0:0.2f})'\n",
        "         ''.format(roc_auc[\"micro\"]),\n",
        "         color='deeppink', linestyle=':', linewidth=4)\n",
        "\n",
        "plt.plot([0, 1], [0, 1], 'k--', lw=2)\n",
        "plt.xlim([0.0, 1.0])\n",
        "plt.ylim([0.0, 1.05])\n",
        "plt.xlabel('False Positive Rate')\n",
        "plt.ylabel('True Positive Rate')\n",
        "plt.title('Receiver Operating Characteristic (ROC) Curves')\n",
        "plt.legend(loc=\"lower right\")\n",
        "plt.show()"
      ],
      "metadata": {
        "colab": {
          "base_uri": "https://localhost:8080/",
          "height": 404
        },
        "id": "nYHlgLEnLGst",
        "outputId": "dc535212-8d9a-4fb1-9847-21c2dab3fc86"
      },
      "execution_count": 131,
      "outputs": [
        {
          "output_type": "display_data",
          "data": {
            "text/plain": [
              "<Figure size 576x432 with 1 Axes>"
            ],
            "image/png": "[encoded data removed]"
          },
          "metadata": {
            "needs_background": "light"
          }
        }
      ]
    },
    {
      "cell_type": "code",
      "source": [
        "matrices = multilabel_confusion_matrix(y_test, y_test_pred_svc)"
      ],
      "metadata": {
        "id": "2RRX44MeI1Dm"
      },
      "execution_count": 132,
      "outputs": []
    },
    {
      "cell_type": "code",
      "source": [
        "cmd = ConfusionMatrixDisplay(matrices[0], display_labels=np.unique(y_test)).plot()\n",
        "plt.title('Confusion Matrix for label 1')\n",
        "plt.show()\n",
        "cmd = ConfusionMatrixDisplay(matrices[1], display_labels=np.unique(y_test)).plot()\n",
        "plt.title('Confusion Matrix for label 2')\n",
        "plt.show()\n",
        "cmd = ConfusionMatrixDisplay(matrices[2], display_labels=np.unique(y_test)).plot()\n",
        "plt.title('Confusion Matrix for label 3')\n",
        "plt.show()\n",
        "cmd = ConfusionMatrixDisplay(matrices[3], display_labels=np.unique(y_test)).plot()\n",
        "plt.title('Confusion Matrix for label 4')\n",
        "plt.show()"
      ],
      "metadata": {
        "colab": {
          "base_uri": "https://localhost:8080/",
          "height": 1000
        },
        "id": "4s6RmMQzJK6w",
        "outputId": "5d994312-e48d-454e-f1d1-b5f3e830c4a8"
      },
      "execution_count": 133,
      "outputs": [
        {
          "output_type": "display_data",
          "data": {
            "text/plain": [
              "<Figure size 432x288 with 2 Axes>"
            ],
            "image/png": "[encoded data removed]"
          },
          "metadata": {
            "needs_background": "light"
          }
        },
        {
          "output_type": "display_data",
          "data": {
            "text/plain": [
              "<Figure size 432x288 with 2 Axes>"
            ],
            "image/png": "[encoded data removed]"
          },
          "metadata": {
            "needs_background": "light"
          }
        },
        {
          "output_type": "display_data",
          "data": {
            "text/plain": [
              "<Figure size 432x288 with 2 Axes>"
            ],
            "image/png": "[encoded data removed]"
          },
          "metadata": {
            "needs_background": "light"
          }
        },
        {
          "output_type": "display_data",
          "data": {
            "text/plain": [
              "<Figure size 432x288 with 2 Axes>"
            ],
            "image/png": "[encoded data removed]"
          },
          "metadata": {
            "needs_background": "light"
          }
        }
      ]
    },
    {
      "cell_type": "code",
      "source": [
        "accuracy_score(y_train,y_train_pred_svc)"
      ],
      "metadata": {
        "colab": {
          "base_uri": "https://localhost:8080/"
        },
        "id": "DS4krtpTKJ0C",
        "outputId": "5a00193e-7111-4149-dc9d-c49e1864871b"
      },
      "execution_count": 134,
      "outputs": [
        {
          "output_type": "execute_result",
          "data": {
            "text/plain": [
              "0.9714401732539253"
            ]
          },
          "metadata": {},
          "execution_count": 134
        }
      ]
    },
    {
      "cell_type": "code",
      "source": [
        "accuracy_score(y_test,y_test_pred_svc)"
      ],
      "metadata": {
        "colab": {
          "base_uri": "https://localhost:8080/"
        },
        "id": "tenybAPeKw3f",
        "outputId": "6d62fe5d-b6a1-4915-afba-f74081becc70"
      },
      "execution_count": 135,
      "outputs": [
        {
          "output_type": "execute_result",
          "data": {
            "text/plain": [
              "0.971670876939733"
            ]
          },
          "metadata": {},
          "execution_count": 135
        }
      ]
    },
    {
      "cell_type": "code",
      "source": [
        "print(classification_report(y_train,y_train_pred_svc))"
      ],
      "metadata": {
        "colab": {
          "base_uri": "https://localhost:8080/"
        },
        "id": "kcRAMZz-K5Qw",
        "outputId": "9c7e731a-39c7-4299-caf2-64250958989e"
      },
      "execution_count": 136,
      "outputs": [
        {
          "output_type": "stream",
          "name": "stdout",
          "text": [
            "              precision    recall  f1-score   support\n",
            "\n",
            "           0       0.99      0.99      0.99      4382\n",
            "           1       0.98      0.98      0.98      8670\n",
            "           2       0.99      0.99      0.99      2987\n",
            "           3       0.99      0.98      0.99      6125\n",
            "\n",
            "   micro avg       0.99      0.98      0.98     22164\n",
            "   macro avg       0.99      0.99      0.99     22164\n",
            "weighted avg       0.99      0.98      0.98     22164\n",
            " samples avg       0.98      0.98      0.98     22164\n",
            "\n"
          ]
        },
        {
          "output_type": "stream",
          "name": "stderr",
          "text": [
            "/usr/local/lib/python3.9/dist-packages/sklearn/metrics/_classification.py:1344: UndefinedMetricWarning: Precision and F-score are ill-defined and being set to 0.0 in samples with no predicted labels. Use `zero_division` parameter to control this behavior.\n",
            "  _warn_prf(average, modifier, msg_start, len(result))\n"
          ]
        }
      ]
    },
    {
      "cell_type": "code",
      "source": [
        "print(classification_report(y_test,y_test_pred_svc))"
      ],
      "metadata": {
        "colab": {
          "base_uri": "https://localhost:8080/"
        },
        "id": "fdDm1DxNK6-A",
        "outputId": "156e4203-4817-4222-f06d-550370ef6fdb"
      },
      "execution_count": 137,
      "outputs": [
        {
          "output_type": "stream",
          "name": "stdout",
          "text": [
            "              precision    recall  f1-score   support\n",
            "\n",
            "           0       0.99      0.98      0.99      1128\n",
            "           1       0.98      0.98      0.98      2143\n",
            "           2       0.99      0.99      0.99       742\n",
            "           3       0.98      0.98      0.98      1529\n",
            "\n",
            "   micro avg       0.99      0.98      0.98      5542\n",
            "   macro avg       0.99      0.98      0.99      5542\n",
            "weighted avg       0.99      0.98      0.98      5542\n",
            " samples avg       0.98      0.98      0.98      5542\n",
            "\n"
          ]
        },
        {
          "output_type": "stream",
          "name": "stderr",
          "text": [
            "/usr/local/lib/python3.9/dist-packages/sklearn/metrics/_classification.py:1344: UndefinedMetricWarning: Precision and F-score are ill-defined and being set to 0.0 in samples with no predicted labels. Use `zero_division` parameter to control this behavior.\n",
            "  _warn_prf(average, modifier, msg_start, len(result))\n"
          ]
        }
      ]
    },
    {
      "cell_type": "markdown",
      "source": [
        "#KNN"
      ],
      "metadata": {
        "id": "InwN3wdXu2J6"
      }
    },
    {
      "cell_type": "code",
      "source": [
        "error = []\n",
        "for i in range(1,20):\n",
        "  knn = KNeighborsClassifier(n_neighbors=i)\n",
        "  knn.fit(X_train,y_train)\n",
        "  y_predict_train_knn = knn.predict(X_train)\n",
        "  error.append(np.mean(y_predict_train_knn!=y_train))"
      ],
      "metadata": {
        "id": "IpZ0OcmBu5PM"
      },
      "execution_count": 138,
      "outputs": []
    },
    {
      "cell_type": "code",
      "source": [
        "plt.plot(range(1,20),error,linestyle='dashed')"
      ],
      "metadata": {
        "colab": {
          "base_uri": "https://localhost:8080/",
          "height": 338
        },
        "id": "ICUSLqt208v9",
        "outputId": "d125ddb8-55b6-4b25-da90-a1a6fb1efc7f"
      },
      "execution_count": 139,
      "outputs": [
        {
          "output_type": "execute_result",
          "data": {
            "text/plain": [
              "[<matplotlib.lines.Line2D at 0x7f8182d49610>,\n",
              " <matplotlib.lines.Line2D at 0x7f8182d49760>,\n",
              " <matplotlib.lines.Line2D at 0x7f8182d49880>,\n",
              " <matplotlib.lines.Line2D at 0x7f8182d499a0>]"
            ]
          },
          "metadata": {},
          "execution_count": 139
        },
        {
          "output_type": "display_data",
          "data": {
            "text/plain": [
              "<Figure size 432x288 with 1 Axes>"
            ],
            "image/png": "[encoded data removed]"
          },
          "metadata": {
            "needs_background": "light"
          }
        }
      ]
    },
    {
      "cell_type": "code",
      "source": [
        "error = []\n",
        "for i in range(1,20):\n",
        "  knn = KNeighborsClassifier(n_neighbors=i)\n",
        "  knn.fit(X_train,y_train)\n",
        "  y_predict_test_knn = knn.predict(X_test)\n",
        "  error.append(np.mean(y_predict_test_knn!=y_test))"
      ],
      "metadata": {
        "id": "GZ-4alfO1L1a"
      },
      "execution_count": 140,
      "outputs": []
    },
    {
      "cell_type": "code",
      "source": [
        "plt.plot(range(1,20),error,linestyle='dashed')"
      ],
      "metadata": {
        "colab": {
          "base_uri": "https://localhost:8080/",
          "height": 338
        },
        "id": "8Scj3PBn2An0",
        "outputId": "1364ab07-b61a-48d2-f1ad-5edc5381b3cc"
      },
      "execution_count": 141,
      "outputs": [
        {
          "output_type": "execute_result",
          "data": {
            "text/plain": [
              "[<matplotlib.lines.Line2D at 0x7f8182d37e20>,\n",
              " <matplotlib.lines.Line2D at 0x7f8182d37f70>,\n",
              " <matplotlib.lines.Line2D at 0x7f8182cc60d0>,\n",
              " <matplotlib.lines.Line2D at 0x7f8182cc61f0>]"
            ]
          },
          "metadata": {},
          "execution_count": 141
        },
        {
          "output_type": "display_data",
          "data": {
            "text/plain": [
              "<Figure size 432x288 with 1 Axes>"
            ],
            "image/png": "[encoded data removed]"
          },
          "metadata": {
            "needs_background": "light"
          }
        }
      ]
    },
    {
      "cell_type": "code",
      "source": [
        "knn = KNeighborsClassifier(n_neighbors=4, metric= \"euclidean\")\n",
        "knn.fit(X_train,y_train)\n",
        "y_predict_train_knn = knn.predict(X_train)\n",
        "y_predict_test_knn = knn.predict(X_test)"
      ],
      "metadata": {
        "id": "in5ONych2CSC"
      },
      "execution_count": 142,
      "outputs": []
    },
    {
      "cell_type": "code",
      "source": [
        "y_test_bin_knn = label_binarize(y_test, classes=[0, 1, 2, 3])\n",
        "\n",
        "fpr = dict()\n",
        "tpr = dict()\n",
        "roc_auc = dict()\n",
        "\n",
        "for i in range(4):\n",
        "    fpr[i], tpr[i], _ = roc_curve(y_test_bin_knn[:, i], y_predict_test_knn[:, i])\n",
        "    roc_auc[i] = auc(fpr[i], tpr[i])\n",
        "\n",
        "# Calcular el promedio de las curvas ROC\n",
        "fpr[\"micro\"], tpr[\"micro\"], _ = roc_curve(y_test_bin_knn.ravel(), y_predict_test_knn.ravel())\n",
        "roc_auc[\"micro\"] = auc(fpr[\"micro\"], tpr[\"micro\"])\n",
        "\n",
        "# Dibujar las curvas ROC\n",
        "plt.figure(figsize=(8,6))\n",
        "\n",
        "# Colores de las curvas ROC\n",
        "colors = cycle(['blue', 'red', 'green', 'yellow'])\n",
        "\n",
        "for i, color in zip(range(4), colors):\n",
        "    plt.plot(fpr[i], tpr[i], color=color, lw=2,\n",
        "             label='ROC curve of class {0} (area = {1:0.2f})'\n",
        "             ''.format(i, roc_auc[i]))\n",
        "\n",
        "plt.plot(fpr[\"micro\"], tpr[\"micro\"],\n",
        "         label='micro-average ROC curve (area = {0:0.2f})'\n",
        "         ''.format(roc_auc[\"micro\"]),\n",
        "         color='deeppink', linestyle=':', linewidth=4)\n",
        "\n",
        "plt.plot([0, 1], [0, 1], 'k--', lw=2)\n",
        "plt.xlim([0.0, 1.0])\n",
        "plt.ylim([0.0, 1.05])\n",
        "plt.xlabel('False Positive Rate')\n",
        "plt.ylabel('True Positive Rate')\n",
        "plt.title('Receiver Operating Characteristic (ROC) Curves')\n",
        "plt.legend(loc=\"lower right\")\n",
        "plt.show()"
      ],
      "metadata": {
        "colab": {
          "base_uri": "https://localhost:8080/",
          "height": 404
        },
        "id": "5dDlFKP_FWsN",
        "outputId": "f0c3614f-453a-4717-cca7-ae66396e38e4"
      },
      "execution_count": 143,
      "outputs": [
        {
          "output_type": "display_data",
          "data": {
            "text/plain": [
              "<Figure size 576x432 with 1 Axes>"
            ],
            "image/png": "[encoded data removed]"
          },
          "metadata": {
            "needs_background": "light"
          }
        }
      ]
    },
    {
      "cell_type": "code",
      "source": [
        "accuracy_score(y_train,y_predict_train_knn)"
      ],
      "metadata": {
        "colab": {
          "base_uri": "https://localhost:8080/"
        },
        "id": "SfCxbb8R2Isg",
        "outputId": "6db619ee-51af-41c2-f64a-1cc2cf70f30a"
      },
      "execution_count": 144,
      "outputs": [
        {
          "output_type": "execute_result",
          "data": {
            "text/plain": [
              "0.9774860133549901"
            ]
          },
          "metadata": {},
          "execution_count": 144
        }
      ]
    },
    {
      "cell_type": "code",
      "source": [
        "accuracy_score(y_test,y_predict_test_knn)"
      ],
      "metadata": {
        "colab": {
          "base_uri": "https://localhost:8080/"
        },
        "id": "0d7MxY9I2MSj",
        "outputId": "4e55c70a-ae86-438f-f777-a45689938bc6"
      },
      "execution_count": 145,
      "outputs": [
        {
          "output_type": "execute_result",
          "data": {
            "text/plain": [
              "0.9709491158426561"
            ]
          },
          "metadata": {},
          "execution_count": 145
        }
      ]
    },
    {
      "cell_type": "code",
      "source": [
        "print(classification_report(y_train,y_predict_train_knn))"
      ],
      "metadata": {
        "colab": {
          "base_uri": "https://localhost:8080/"
        },
        "id": "utFgVFZo2OVv",
        "outputId": "de20717c-6525-4b46-b43c-e5fe48483b93"
      },
      "execution_count": 146,
      "outputs": [
        {
          "output_type": "stream",
          "name": "stdout",
          "text": [
            "              precision    recall  f1-score   support\n",
            "\n",
            "           0       0.99      0.95      0.97      4382\n",
            "           1       1.00      0.98      0.99      8670\n",
            "           2       1.00      0.99      0.99      2987\n",
            "           3       1.00      0.99      0.99      6125\n",
            "\n",
            "   micro avg       1.00      0.98      0.99     22164\n",
            "   macro avg       1.00      0.98      0.99     22164\n",
            "weighted avg       1.00      0.98      0.99     22164\n",
            " samples avg       0.98      0.98      0.98     22164\n",
            "\n"
          ]
        },
        {
          "output_type": "stream",
          "name": "stderr",
          "text": [
            "/usr/local/lib/python3.9/dist-packages/sklearn/metrics/_classification.py:1344: UndefinedMetricWarning: Precision and F-score are ill-defined and being set to 0.0 in samples with no predicted labels. Use `zero_division` parameter to control this behavior.\n",
            "  _warn_prf(average, modifier, msg_start, len(result))\n"
          ]
        }
      ]
    },
    {
      "cell_type": "code",
      "source": [
        "print(classification_report(y_test,y_predict_test_knn))"
      ],
      "metadata": {
        "colab": {
          "base_uri": "https://localhost:8080/"
        },
        "id": "8TeOQYU_2Qap",
        "outputId": "7ac5961e-6c35-4a50-b2b4-1d22f5dfa498"
      },
      "execution_count": 147,
      "outputs": [
        {
          "output_type": "stream",
          "name": "stdout",
          "text": [
            "              precision    recall  f1-score   support\n",
            "\n",
            "           0       0.98      0.94      0.96      1128\n",
            "           1       0.99      0.98      0.98      2143\n",
            "           2       0.99      0.99      0.99       742\n",
            "           3       0.99      0.98      0.99      1529\n",
            "\n",
            "   micro avg       0.99      0.97      0.98      5542\n",
            "   macro avg       0.99      0.97      0.98      5542\n",
            "weighted avg       0.99      0.97      0.98      5542\n",
            " samples avg       0.97      0.97      0.97      5542\n",
            "\n"
          ]
        },
        {
          "output_type": "stream",
          "name": "stderr",
          "text": [
            "/usr/local/lib/python3.9/dist-packages/sklearn/metrics/_classification.py:1344: UndefinedMetricWarning: Precision and F-score are ill-defined and being set to 0.0 in samples with no predicted labels. Use `zero_division` parameter to control this behavior.\n",
            "  _warn_prf(average, modifier, msg_start, len(result))\n"
          ]
        }
      ]
    },
    {
      "cell_type": "code",
      "source": [
        "matricesKNN = multilabel_confusion_matrix(y_test, y_predict_test_knn)"
      ],
      "metadata": {
        "id": "fypeZrP3MJkg"
      },
      "execution_count": 148,
      "outputs": []
    },
    {
      "cell_type": "code",
      "source": [
        "cmd = ConfusionMatrixDisplay(matricesKNN[0], display_labels=np.unique(y_test)).plot()\n",
        "plt.title('Confusion Matrix for label 1')\n",
        "plt.show()\n",
        "cmd = ConfusionMatrixDisplay(matricesKNN[1], display_labels=np.unique(y_test)).plot()\n",
        "plt.title('Confusion Matrix for label 2')\n",
        "plt.show()\n",
        "cmd = ConfusionMatrixDisplay(matricesKNN[2], display_labels=np.unique(y_test)).plot()\n",
        "plt.title('Confusion Matrix for label 3')\n",
        "plt.show()\n",
        "cmd = ConfusionMatrixDisplay(matricesKNN[3], display_labels=np.unique(y_test)).plot()\n",
        "plt.title('Confusion Matrix for label 4')\n",
        "plt.show()"
      ],
      "metadata": {
        "colab": {
          "base_uri": "https://localhost:8080/",
          "height": 1000
        },
        "id": "TdRPyLOCMk5l",
        "outputId": "51293ace-e4e3-4f58-f6f1-f7d0ab192bb3"
      },
      "execution_count": 149,
      "outputs": [
        {
          "output_type": "display_data",
          "data": {
            "text/plain": [
              "<Figure size 432x288 with 2 Axes>"
            ],
            "image/png": "[encoded data removed]"
          },
          "metadata": {
            "needs_background": "light"
          }
        },
        {
          "output_type": "display_data",
          "data": {
            "text/plain": [
              "<Figure size 432x288 with 2 Axes>"
            ],
            "image/png": "[encoded data removed]"
          },
          "metadata": {
            "needs_background": "light"
          }
        },
        {
          "output_type": "display_data",
          "data": {
            "text/plain": [
              "<Figure size 432x288 with 2 Axes>"
            ],
            "image/png": "[encoded data removed]"
          },
          "metadata": {
            "needs_background": "light"
          }
        },
        {
          "output_type": "display_data",
          "data": {
            "text/plain": [
              "<Figure size 432x288 with 2 Axes>"
            ],
            "image/png": "[encoded data removed]"
          },
          "metadata": {
            "needs_background": "light"
          }
        }
      ]
    },
    {
      "cell_type": "code",
      "source": [
        "import pickle\n",
        "with open(\"scaler.pkl\", \"wb\") as file:\n",
        "    pickle.dump(scaler, file)"
      ],
      "metadata": {
        "id": "ESh9vV0bFuLh"
      },
      "execution_count": 150,
      "outputs": []
    }
  ]
}